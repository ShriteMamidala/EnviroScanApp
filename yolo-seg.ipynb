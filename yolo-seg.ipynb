{
 "cells": [
  {
   "cell_type": "code",
   "execution_count": 2,
   "metadata": {},
   "outputs": [
    {
     "name": "stdout",
     "output_type": "stream",
     "text": [
      "Downloading: [==============================] - 1500/1500\n",
      "Download complete. Images saved in 'data/images/'.\n"
     ]
    }
   ],
   "source": [
    "import os\n",
    "import json\n",
    "from PIL import Image\n",
    "import requests\n",
    "from io import BytesIO\n",
    "\n",
    "# Paths\n",
    "base_dir = os.getcwd()  # Base directory of the Jupyter notebook\n",
    "data_dir = os.path.join(base_dir, \"data\")  # Path to the data folder\n",
    "annotations_path = os.path.join(data_dir, \"annotations.json\")  # Path to annotations.json\n",
    "images_dir = os.path.join(data_dir, \"images\")  # Folder to save images\n",
    "\n",
    "# Ensure images directory exists\n",
    "os.makedirs(images_dir, exist_ok=True)\n",
    "\n",
    "# Load annotations\n",
    "with open(annotations_path, 'r') as f:\n",
    "    annotations = json.load(f)\n",
    "\n",
    "# Download images\n",
    "nr_images = len(annotations['images'])\n",
    "for i, image in enumerate(annotations['images']):\n",
    "    file_name = image['file_name']\n",
    "    url_original = image['flickr_url']\n",
    "    file_path = os.path.join(images_dir, file_name)\n",
    "\n",
    "    # Ensure any subdirectories in file_path exist\n",
    "    subdir = os.path.dirname(file_path)\n",
    "    os.makedirs(subdir, exist_ok=True)\n",
    "\n",
    "    # Download and save if not already saved\n",
    "    if not os.path.isfile(file_path):\n",
    "        response = requests.get(url_original)\n",
    "        img = Image.open(BytesIO(response.content))\n",
    "        if img._getexif():\n",
    "            img.save(file_path, exif=img.info[\"exif\"])\n",
    "        else:\n",
    "            img.save(file_path)\n",
    "\n",
    "    # Display progress in notebook\n",
    "    bar_size = 30\n",
    "    x = int(bar_size * (i + 1) / nr_images)\n",
    "    print(f\"Downloading: [{'=' * x}{'.' * (bar_size - x)}] - {i + 1}/{nr_images}\", end='\\r')\n",
    "\n",
    "print(\"\\nDownload complete. Images saved in 'data/images/'.\")\n"
   ]
  },
  {
   "cell_type": "code",
   "execution_count": 5,
   "metadata": {},
   "outputs": [
    {
     "name": "stdout",
     "output_type": "stream",
     "text": [
      "Processing 1500 images...\n",
      "All images have been renamed and moved to ./data/combined/images.\n"
     ]
    }
   ],
   "source": [
    "import os\n",
    "import json\n",
    "import shutil\n",
    "\n",
    "# Paths\n",
    "base_path = \"./data/images\"  # Path to your batches (e.g., batch_1, batch_2, etc.)\n",
    "annotations_path = \"./data/annotations.json\"  # Path to your annotations.json file\n",
    "combined_folder = \"./data/combined/images\"  # Folder to store all images with new names\n",
    "\n",
    "# Ensure the combined folder exists\n",
    "os.makedirs(combined_folder, exist_ok=True)\n",
    "\n",
    "# Load annotations.json\n",
    "with open(annotations_path, \"r\") as f:\n",
    "    annotations = json.load(f)\n",
    "\n",
    "print(f\"Processing {len(annotations['images'])} images...\")\n",
    "\n",
    "# Process each image in the annotations file\n",
    "for image in annotations[\"images\"]:\n",
    "    image_id = image[\"id\"]  # Unique ID for the image\n",
    "    file_name = image[\"file_name\"]  # Original file path (e.g., batch_1/000006.jpg)\n",
    "    source_path = os.path.join(base_path, file_name)  # Full path to the original image\n",
    "    destination_path = os.path.join(combined_folder, f\"{image_id}.jpg\")  # New path with ID as name\n",
    "\n",
    "    # Copy image if it exists\n",
    "    if os.path.exists(source_path):\n",
    "        shutil.copy2(source_path, destination_path)\n",
    "    else:\n",
    "        print(f\"Warning: {source_path} not found!\")\n",
    "\n",
    "print(f\"All images have been renamed and moved to {combined_folder}.\")"
   ]
  },
  {
   "cell_type": "code",
   "execution_count": 13,
   "metadata": {},
   "outputs": [
    {
     "name": "stdout",
     "output_type": "stream",
     "text": [
      "YOLO format labels with supercategories saved in ./data/labels.\n"
     ]
    }
   ],
   "source": [
    "# Paths\n",
    "annotations_path = \"./data/annotations.json\"  # Path to your annotations.json file\n",
    "images_dir = \"./data/images\"  # Path where your combined images are stored\n",
    "output_labels_dir = \"./data/labels\"  # Output folder for YOLO labels\n",
    "os.makedirs(output_labels_dir, exist_ok=True)  # Ensure the labels directory exists\n",
    "\n",
    "# Load the COCO annotations\n",
    "with open(annotations_path, \"r\") as f:\n",
    "    coco_data = json.load(f)\n",
    "\n",
    "# Create a mapping from category_id to supercategory_id\n",
    "cat_to_supercat_id = {}\n",
    "supercat_to_id = {}\n",
    "supercat_counter = 0\n",
    "\n",
    "for category in coco_data[\"categories\"]:\n",
    "    supercat = category[\"supercategory\"]\n",
    "    if supercat not in supercat_to_id:\n",
    "        supercat_to_id[supercat] = supercat_counter\n",
    "        supercat_counter += 1\n",
    "    cat_to_supercat_id[category[\"id\"]] = supercat_to_id[supercat]\n",
    "\n",
    "# Convert each annotation to YOLO format using supercategories\n",
    "for annotation in coco_data[\"annotations\"]:\n",
    "    image_id = annotation[\"image_id\"]\n",
    "    category_id = annotation[\"category_id\"]\n",
    "    supercategory_id = cat_to_supercat_id[category_id]  # Map to supercategory ID\n",
    "    segmentation = annotation[\"segmentation\"]\n",
    "    bbox = annotation[\"bbox\"]\n",
    "\n",
    "    # Find the corresponding image\n",
    "    image_info = next(img for img in coco_data[\"images\"] if img[\"id\"] == image_id)\n",
    "    image_width = image_info[\"width\"]\n",
    "    image_height = image_info[\"height\"]\n",
    "\n",
    "    # YOLO bounding box (normalized)\n",
    "    x_center = (bbox[0] + bbox[2] / 2) / image_width\n",
    "    y_center = (bbox[1] + bbox[3] / 2) / image_height\n",
    "    width = bbox[2] / image_width\n",
    "    height = bbox[3] / image_height\n",
    "\n",
    "    # Flatten segmentation polygon points and normalize\n",
    "    normalized_polygon = [\n",
    "        f\"{x / image_width:.6f} {y / image_height:.6f}\"\n",
    "        for x, y in zip(segmentation[0][::2], segmentation[0][1::2])\n",
    "    ]\n",
    "    polygon_points = \" \".join(normalized_polygon)\n",
    "\n",
    "    # Create the label file\n",
    "    label_file = os.path.join(output_labels_dir, f\"{image_id}.txt\")\n",
    "    with open(label_file, \"a\") as label:\n",
    "        label.write(f\"{supercategory_id} {x_center} {y_center} {width} {height} {polygon_points}\\n\")\n",
    "\n",
    "print(f\"YOLO format labels with supercategories saved in {output_labels_dir}.\")\n"
   ]
  },
  {
   "cell_type": "code",
   "execution_count": 18,
   "metadata": {},
   "outputs": [
    {
     "name": "stdout",
     "output_type": "stream",
     "text": [
      "Train and validation sets created in ./data/train and ./data/val.\n"
     ]
    }
   ],
   "source": [
    "import shutil\n",
    "import random\n",
    "\n",
    "\n",
    "# Paths\n",
    "output_train_dir = \"./data/train\"\n",
    "output_val_dir = \"./data/val\"\n",
    "images_dir = \"./data//images\"  # Path where your combined images are stored\n",
    "output_labels_dir = \"./data//labels\"  # Output folder for YOLO labels\n",
    "\n",
    "train_images_dir = os.path.join(output_train_dir, \"images\")\n",
    "train_labels_dir = os.path.join(output_train_dir, \"labels\")\n",
    "val_images_dir = os.path.join(output_val_dir, \"images\")\n",
    "val_labels_dir = os.path.join(output_val_dir, \"labels\")\n",
    "\n",
    "os.makedirs(train_images_dir, exist_ok=True)\n",
    "os.makedirs(train_labels_dir, exist_ok=True)\n",
    "os.makedirs(val_images_dir, exist_ok=True)\n",
    "os.makedirs(val_labels_dir, exist_ok=True)\n",
    "\n",
    "# Get all image file names\n",
    "image_files = sorted(os.listdir(images_dir))\n",
    "label_files = sorted(os.listdir(output_labels_dir))\n",
    "\n",
    "# Shuffle and split\n",
    "combined = list(zip(image_files, label_files))\n",
    "random.shuffle(combined)\n",
    "split_idx = int(0.8 * len(combined))  # 80% train, 20% val\n",
    "\n",
    "train_set = combined[:split_idx]\n",
    "val_set = combined[split_idx:]\n",
    "\n",
    "# Move files to train/val directories\n",
    "for image_file, label_file in train_set:\n",
    "    shutil.copy2(os.path.join(images_dir, image_file), train_images_dir)\n",
    "    shutil.copy2(os.path.join(output_labels_dir, label_file), train_labels_dir)\n",
    "\n",
    "for image_file, label_file in val_set:\n",
    "    shutil.copy2(os.path.join(images_dir, image_file), val_images_dir)\n",
    "    shutil.copy2(os.path.join(output_labels_dir, label_file), val_labels_dir)\n",
    "\n",
    "print(f\"Train and validation sets created in {output_train_dir} and {output_val_dir}.\")"
   ]
  },
  {
   "cell_type": "code",
   "execution_count": 24,
   "metadata": {},
   "outputs": [
    {
     "name": "stdout",
     "output_type": "stream",
     "text": [
      "Supercategory Mapping:\n",
      "{'Aluminium foil': 0, 'Battery': 1, 'Blister pack': 2, 'Bottle': 3, 'Bottle cap': 4, 'Broken glass': 5, 'Can': 6, 'Carton': 7, 'Cup': 8, 'Food waste': 9, 'Glass jar': 10, 'Lid': 11, 'Other plastic': 12, 'Paper': 13, 'Paper bag': 14, 'Plastic bag & wrapper': 15, 'Plastic container': 16, 'Plastic glooves': 17, 'Plastic utensils': 18, 'Pop tab': 19, 'Rope & strings': 20, 'Scrap metal': 21, 'Shoe': 22, 'Squeezable tube': 23, 'Straw': 24, 'Styrofoam piece': 25, 'Unlabeled litter': 26, 'Cigarette': 27}\n"
     ]
    }
   ],
   "source": [
    "print(\"Supercategory Mapping:\")\n",
    "print(supercat_to_id)"
   ]
  },
  {
   "cell_type": "code",
   "execution_count": 7,
   "metadata": {},
   "outputs": [
    {
     "name": "stdout",
     "output_type": "stream",
     "text": [
      "Polygon points removed from all label files.\n"
     ]
    }
   ],
   "source": [
    "import os\n",
    "train_labels_dir = \"./data/train/labels\"\n",
    "val_labels_dir = \"./data/val/labels\"\n",
    "\n",
    "# Function to clean label files\n",
    "def clean_label_files(labels_dir):\n",
    "    for label_file in os.listdir(labels_dir):\n",
    "        label_path = os.path.join(labels_dir, label_file)\n",
    "\n",
    "        # Read the label file\n",
    "        with open(label_path, \"r\") as f:\n",
    "            lines = f.readlines()\n",
    "\n",
    "        # Process each line\n",
    "        cleaned_lines = []\n",
    "        for line in lines:\n",
    "            parts = line.strip().split()\n",
    "            if len(parts) >= 5:\n",
    "                # Retain only the first 5 elements: class_id, x_center, y_center, width, height\n",
    "                cleaned_lines.append(\" \".join(parts[:5]) + \"\\n\")\n",
    "\n",
    "        # Write cleaned data back to the file\n",
    "        with open(label_path, \"w\") as f:\n",
    "            f.writelines(cleaned_lines)\n",
    "\n",
    "# Clean labels in train and val directories\n",
    "clean_label_files(train_labels_dir)\n",
    "clean_label_files(val_labels_dir)\n",
    "\n",
    "print(\"Polygon points removed from all label files.\")"
   ]
  },
  {
   "cell_type": "code",
   "execution_count": 26,
   "metadata": {},
   "outputs": [
    {
     "name": "stdout",
     "output_type": "stream",
     "text": [
      "New https://pypi.org/project/ultralytics/8.3.68 available  Update with 'pip install -U ultralytics'\n",
      "Ultralytics 8.3.67  Python-3.12.3 torch-2.5.1+cu118 CUDA:0 (NVIDIA GeForce RTX 4060 Ti, 16380MiB)\n",
      "\u001b[34m\u001b[1mengine\\trainer: \u001b[0mtask=detect, mode=train, model=yolov8n.pt, data=./data/yolo_data.yaml, epochs=50, time=None, patience=100, batch=64, imgsz=640, save=True, save_period=-1, cache=False, device=None, workers=8, project=None, name=yolov8s-seg_EnviroScan_Results3, exist_ok=False, pretrained=True, optimizer=auto, verbose=True, seed=0, deterministic=True, single_cls=False, rect=False, cos_lr=False, close_mosaic=10, resume=False, amp=True, fraction=1.0, profile=False, freeze=None, multi_scale=False, overlap_mask=True, mask_ratio=4, dropout=0.0, val=True, split=val, save_json=False, save_hybrid=False, conf=None, iou=0.7, max_det=300, half=False, dnn=False, plots=True, source=None, vid_stride=1, stream_buffer=False, visualize=False, augment=True, agnostic_nms=False, classes=None, retina_masks=False, embed=None, show=False, save_frames=False, save_txt=False, save_conf=False, save_crop=False, show_labels=True, show_conf=True, show_boxes=True, line_width=None, format=torchscript, keras=False, optimize=False, int8=False, dynamic=False, simplify=True, opset=None, workspace=None, nms=False, lr0=0.01, lrf=0.01, momentum=0.937, weight_decay=0.0005, warmup_epochs=3.0, warmup_momentum=0.8, warmup_bias_lr=0.1, box=7.5, cls=0.5, dfl=1.5, pose=12.0, kobj=1.0, nbs=64, hsv_h=0.015, hsv_s=0.7, hsv_v=0.4, degrees=0.0, translate=0.1, scale=0.5, shear=0.0, perspective=0.0, flipud=0.0, fliplr=0.5, bgr=0.0, mosaic=1.0, mixup=0.0, copy_paste=0.0, copy_paste_mode=flip, auto_augment=randaugment, erasing=0.4, crop_fraction=1.0, cfg=None, tracker=botsort.yaml, save_dir=runs\\detect\\yolov8s-seg_EnviroScan_Results3\n",
      "Overriding model.yaml nc=80 with nc=28\n",
      "\n",
      "                   from  n    params  module                                       arguments                     \n",
      "  0                  -1  1       464  ultralytics.nn.modules.conv.Conv             [3, 16, 3, 2]                 \n",
      "  1                  -1  1      4672  ultralytics.nn.modules.conv.Conv             [16, 32, 3, 2]                \n",
      "  2                  -1  1      7360  ultralytics.nn.modules.block.C2f             [32, 32, 1, True]             \n",
      "  3                  -1  1     18560  ultralytics.nn.modules.conv.Conv             [32, 64, 3, 2]                \n",
      "  4                  -1  2     49664  ultralytics.nn.modules.block.C2f             [64, 64, 2, True]             \n",
      "  5                  -1  1     73984  ultralytics.nn.modules.conv.Conv             [64, 128, 3, 2]               \n",
      "  6                  -1  2    197632  ultralytics.nn.modules.block.C2f             [128, 128, 2, True]           \n",
      "  7                  -1  1    295424  ultralytics.nn.modules.conv.Conv             [128, 256, 3, 2]              \n",
      "  8                  -1  1    460288  ultralytics.nn.modules.block.C2f             [256, 256, 1, True]           \n",
      "  9                  -1  1    164608  ultralytics.nn.modules.block.SPPF            [256, 256, 5]                 \n",
      " 10                  -1  1         0  torch.nn.modules.upsampling.Upsample         [None, 2, 'nearest']          \n",
      " 11             [-1, 6]  1         0  ultralytics.nn.modules.conv.Concat           [1]                           \n",
      " 12                  -1  1    148224  ultralytics.nn.modules.block.C2f             [384, 128, 1]                 \n",
      " 13                  -1  1         0  torch.nn.modules.upsampling.Upsample         [None, 2, 'nearest']          \n",
      " 14             [-1, 4]  1         0  ultralytics.nn.modules.conv.Concat           [1]                           \n",
      " 15                  -1  1     37248  ultralytics.nn.modules.block.C2f             [192, 64, 1]                  \n",
      " 16                  -1  1     36992  ultralytics.nn.modules.conv.Conv             [64, 64, 3, 2]                \n",
      " 17            [-1, 12]  1         0  ultralytics.nn.modules.conv.Concat           [1]                           \n",
      " 18                  -1  1    123648  ultralytics.nn.modules.block.C2f             [192, 128, 1]                 \n",
      " 19                  -1  1    147712  ultralytics.nn.modules.conv.Conv             [128, 128, 3, 2]              \n",
      " 20             [-1, 9]  1         0  ultralytics.nn.modules.conv.Concat           [1]                           \n",
      " 21                  -1  1    493056  ultralytics.nn.modules.block.C2f             [384, 256, 1]                 \n",
      " 22        [15, 18, 21]  1    756772  ultralytics.nn.modules.head.Detect           [28, [64, 128, 256]]          \n",
      "Model summary: 225 layers, 3,016,308 parameters, 3,016,292 gradients, 8.2 GFLOPs\n",
      "\n",
      "Transferred 319/355 items from pretrained weights\n",
      "\u001b[34m\u001b[1mTensorBoard: \u001b[0mStart with 'tensorboard --logdir runs\\detect\\yolov8s-seg_EnviroScan_Results3', view at http://localhost:6006/\n",
      "Freezing layer 'model.22.dfl.conv.weight'\n",
      "\u001b[34m\u001b[1mAMP: \u001b[0mrunning Automatic Mixed Precision (AMP) checks...\n",
      "\u001b[34m\u001b[1mAMP: \u001b[0mchecks passed \n"
     ]
    },
    {
     "name": "stderr",
     "output_type": "stream",
     "text": [
      "\u001b[34m\u001b[1mtrain: \u001b[0mScanning C:\\Users\\shrit\\Desktop\\Ml_Projects\\EnviroScan\\EnviroScan\\data\\train\\labels.cache... 1200 images, 0 backgrounds, 0 corrupt: 100%|██████████| 1200/1200 [00:00<?, ?it/s]"
     ]
    },
    {
     "name": "stdout",
     "output_type": "stream",
     "text": [
      "\u001b[34m\u001b[1malbumentations: \u001b[0mBlur(p=0.01, blur_limit=(3, 7)), MedianBlur(p=0.01, blur_limit=(3, 7)), ToGray(p=0.01, num_output_channels=3, method='weighted_average'), CLAHE(p=0.01, clip_limit=(1.0, 4.0), tile_grid_size=(8, 8))\n"
     ]
    },
    {
     "name": "stderr",
     "output_type": "stream",
     "text": [
      "\n",
      "\u001b[34m\u001b[1mval: \u001b[0mScanning C:\\Users\\shrit\\Desktop\\Ml_Projects\\EnviroScan\\EnviroScan\\data\\val\\labels.cache... 300 images, 0 backgrounds, 0 corrupt: 100%|██████████| 300/300 [00:00<?, ?it/s]\n"
     ]
    },
    {
     "name": "stdout",
     "output_type": "stream",
     "text": [
      "Plotting labels to runs\\detect\\yolov8s-seg_EnviroScan_Results3\\labels.jpg... \n",
      "\u001b[34m\u001b[1moptimizer:\u001b[0m 'optimizer=auto' found, ignoring 'lr0=0.01' and 'momentum=0.937' and determining best 'optimizer', 'lr0' and 'momentum' automatically... \n",
      "\u001b[34m\u001b[1moptimizer:\u001b[0m AdamW(lr=0.000313, momentum=0.9) with parameter groups 57 weight(decay=0.0), 64 weight(decay=0.0005), 63 bias(decay=0.0)\n",
      "\u001b[34m\u001b[1mTensorBoard: \u001b[0mmodel graph visualization added \n",
      "Image sizes 640 train, 640 val\n",
      "Using 8 dataloader workers\n",
      "Logging results to \u001b[1mruns\\detect\\yolov8s-seg_EnviroScan_Results3\u001b[0m\n",
      "Starting training for 50 epochs...\n",
      "\n",
      "      Epoch    GPU_mem   box_loss   cls_loss   dfl_loss  Instances       Size\n"
     ]
    },
    {
     "name": "stderr",
     "output_type": "stream",
     "text": [
      "       1/50      10.2G      1.218      5.011      1.213        270        640: 100%|██████████| 19/19 [00:11<00:00,  1.65it/s]\n",
      "                 Class     Images  Instances      Box(P          R      mAP50  mAP50-95): 100%|██████████| 3/3 [00:01<00:00,  2.12it/s]"
     ]
    },
    {
     "name": "stdout",
     "output_type": "stream",
     "text": [
      "                   all        300       1192          0          0          0          0\n"
     ]
    },
    {
     "name": "stderr",
     "output_type": "stream",
     "text": [
      "\n"
     ]
    },
    {
     "name": "stdout",
     "output_type": "stream",
     "text": [
      "\n",
      "      Epoch    GPU_mem   box_loss   cls_loss   dfl_loss  Instances       Size\n"
     ]
    },
    {
     "name": "stderr",
     "output_type": "stream",
     "text": [
      "       2/50      9.47G       1.21      4.393      1.152        232        640: 100%|██████████| 19/19 [00:10<00:00,  1.75it/s]\n",
      "                 Class     Images  Instances      Box(P          R      mAP50  mAP50-95): 100%|██████████| 3/3 [00:01<00:00,  1.80it/s]"
     ]
    },
    {
     "name": "stdout",
     "output_type": "stream",
     "text": [
      "                   all        300       1192     0.0271     0.0721     0.0224     0.0183\n"
     ]
    },
    {
     "name": "stderr",
     "output_type": "stream",
     "text": [
      "\n"
     ]
    },
    {
     "name": "stdout",
     "output_type": "stream",
     "text": [
      "\n",
      "      Epoch    GPU_mem   box_loss   cls_loss   dfl_loss  Instances       Size\n"
     ]
    },
    {
     "name": "stderr",
     "output_type": "stream",
     "text": [
      "       3/50        10G      1.222      3.812      1.155        230        640: 100%|██████████| 19/19 [00:10<00:00,  1.82it/s]\n",
      "                 Class     Images  Instances      Box(P          R      mAP50  mAP50-95): 100%|██████████| 3/3 [00:01<00:00,  1.83it/s]"
     ]
    },
    {
     "name": "stdout",
     "output_type": "stream",
     "text": [
      "                   all        300       1192     0.0276      0.156     0.0355     0.0273\n"
     ]
    },
    {
     "name": "stderr",
     "output_type": "stream",
     "text": [
      "\n"
     ]
    },
    {
     "name": "stdout",
     "output_type": "stream",
     "text": [
      "\n",
      "      Epoch    GPU_mem   box_loss   cls_loss   dfl_loss  Instances       Size\n"
     ]
    },
    {
     "name": "stderr",
     "output_type": "stream",
     "text": [
      "       4/50      8.53G      1.179      3.438      1.135        331        640: 100%|██████████| 19/19 [00:10<00:00,  1.84it/s]\n",
      "                 Class     Images  Instances      Box(P          R      mAP50  mAP50-95): 100%|██████████| 3/3 [00:01<00:00,  1.75it/s]"
     ]
    },
    {
     "name": "stdout",
     "output_type": "stream",
     "text": [
      "                   all        300       1192     0.0213      0.345     0.0488     0.0364\n"
     ]
    },
    {
     "name": "stderr",
     "output_type": "stream",
     "text": [
      "\n"
     ]
    },
    {
     "name": "stdout",
     "output_type": "stream",
     "text": [
      "\n",
      "      Epoch    GPU_mem   box_loss   cls_loss   dfl_loss  Instances       Size\n"
     ]
    },
    {
     "name": "stderr",
     "output_type": "stream",
     "text": [
      "       5/50      8.48G      1.167       3.19      1.128        226        640: 100%|██████████| 19/19 [00:10<00:00,  1.85it/s]\n",
      "                 Class     Images  Instances      Box(P          R      mAP50  mAP50-95): 100%|██████████| 3/3 [00:01<00:00,  1.74it/s]"
     ]
    },
    {
     "name": "stdout",
     "output_type": "stream",
     "text": [
      "                   all        300       1192      0.657     0.0357       0.05     0.0359\n"
     ]
    },
    {
     "name": "stderr",
     "output_type": "stream",
     "text": [
      "\n"
     ]
    },
    {
     "name": "stdout",
     "output_type": "stream",
     "text": [
      "\n",
      "      Epoch    GPU_mem   box_loss   cls_loss   dfl_loss  Instances       Size\n"
     ]
    },
    {
     "name": "stderr",
     "output_type": "stream",
     "text": [
      "       6/50      9.43G      1.149      2.993      1.116        223        640: 100%|██████████| 19/19 [00:10<00:00,  1.84it/s]\n",
      "                 Class     Images  Instances      Box(P          R      mAP50  mAP50-95): 100%|██████████| 3/3 [00:01<00:00,  1.76it/s]"
     ]
    },
    {
     "name": "stdout",
     "output_type": "stream",
     "text": [
      "                   all        300       1192        0.6     0.0391     0.0523     0.0376\n"
     ]
    },
    {
     "name": "stderr",
     "output_type": "stream",
     "text": [
      "\n"
     ]
    },
    {
     "name": "stdout",
     "output_type": "stream",
     "text": [
      "\n",
      "      Epoch    GPU_mem   box_loss   cls_loss   dfl_loss  Instances       Size\n"
     ]
    },
    {
     "name": "stderr",
     "output_type": "stream",
     "text": [
      "       7/50      9.04G      1.144       2.89      1.121        261        640: 100%|██████████| 19/19 [00:10<00:00,  1.81it/s]\n",
      "                 Class     Images  Instances      Box(P          R      mAP50  mAP50-95): 100%|██████████| 3/3 [00:01<00:00,  1.65it/s]"
     ]
    },
    {
     "name": "stdout",
     "output_type": "stream",
     "text": [
      "                   all        300       1192      0.473      0.058     0.0706     0.0525\n"
     ]
    },
    {
     "name": "stderr",
     "output_type": "stream",
     "text": [
      "\n"
     ]
    },
    {
     "name": "stdout",
     "output_type": "stream",
     "text": [
      "\n",
      "      Epoch    GPU_mem   box_loss   cls_loss   dfl_loss  Instances       Size\n"
     ]
    },
    {
     "name": "stderr",
     "output_type": "stream",
     "text": [
      "       8/50      9.56G      1.108      2.777      1.093        244        640: 100%|██████████| 19/19 [00:10<00:00,  1.80it/s]\n",
      "                 Class     Images  Instances      Box(P          R      mAP50  mAP50-95): 100%|██████████| 3/3 [00:01<00:00,  1.66it/s]"
     ]
    },
    {
     "name": "stdout",
     "output_type": "stream",
     "text": [
      "                   all        300       1192      0.381      0.099      0.082      0.063\n"
     ]
    },
    {
     "name": "stderr",
     "output_type": "stream",
     "text": [
      "\n"
     ]
    },
    {
     "name": "stdout",
     "output_type": "stream",
     "text": [
      "\n",
      "      Epoch    GPU_mem   box_loss   cls_loss   dfl_loss  Instances       Size\n"
     ]
    },
    {
     "name": "stderr",
     "output_type": "stream",
     "text": [
      "       9/50      8.46G      1.102      2.704      1.081        262        640: 100%|██████████| 19/19 [00:10<00:00,  1.80it/s]\n",
      "                 Class     Images  Instances      Box(P          R      mAP50  mAP50-95): 100%|██████████| 3/3 [00:01<00:00,  1.66it/s]"
     ]
    },
    {
     "name": "stdout",
     "output_type": "stream",
     "text": [
      "                   all        300       1192       0.42     0.0971     0.0742     0.0543\n"
     ]
    },
    {
     "name": "stderr",
     "output_type": "stream",
     "text": [
      "\n"
     ]
    },
    {
     "name": "stdout",
     "output_type": "stream",
     "text": [
      "\n",
      "      Epoch    GPU_mem   box_loss   cls_loss   dfl_loss  Instances       Size\n"
     ]
    },
    {
     "name": "stderr",
     "output_type": "stream",
     "text": [
      "      10/50      9.17G      1.107      2.588      1.087        252        640: 100%|██████████| 19/19 [00:10<00:00,  1.84it/s]\n",
      "                 Class     Images  Instances      Box(P          R      mAP50  mAP50-95): 100%|██████████| 3/3 [00:01<00:00,  1.76it/s]"
     ]
    },
    {
     "name": "stdout",
     "output_type": "stream",
     "text": [
      "                   all        300       1192      0.416      0.102     0.0835     0.0587\n"
     ]
    },
    {
     "name": "stderr",
     "output_type": "stream",
     "text": [
      "\n"
     ]
    },
    {
     "name": "stdout",
     "output_type": "stream",
     "text": [
      "\n",
      "      Epoch    GPU_mem   box_loss   cls_loss   dfl_loss  Instances       Size\n"
     ]
    },
    {
     "name": "stderr",
     "output_type": "stream",
     "text": [
      "      11/50      9.58G      1.078      2.492      1.071        266        640: 100%|██████████| 19/19 [00:10<00:00,  1.83it/s]\n",
      "                 Class     Images  Instances      Box(P          R      mAP50  mAP50-95): 100%|██████████| 3/3 [00:01<00:00,  1.70it/s]"
     ]
    },
    {
     "name": "stdout",
     "output_type": "stream",
     "text": [
      "                   all        300       1192      0.509      0.109      0.085     0.0624\n"
     ]
    },
    {
     "name": "stderr",
     "output_type": "stream",
     "text": [
      "\n"
     ]
    },
    {
     "name": "stdout",
     "output_type": "stream",
     "text": [
      "\n",
      "      Epoch    GPU_mem   box_loss   cls_loss   dfl_loss  Instances       Size\n"
     ]
    },
    {
     "name": "stderr",
     "output_type": "stream",
     "text": [
      "      12/50      9.67G      1.071      2.446      1.063        262        640: 100%|██████████| 19/19 [00:10<00:00,  1.76it/s]\n",
      "                 Class     Images  Instances      Box(P          R      mAP50  mAP50-95): 100%|██████████| 3/3 [00:01<00:00,  1.50it/s]"
     ]
    },
    {
     "name": "stdout",
     "output_type": "stream",
     "text": [
      "                   all        300       1192      0.601     0.0975     0.0777     0.0572\n"
     ]
    },
    {
     "name": "stderr",
     "output_type": "stream",
     "text": [
      "\n"
     ]
    },
    {
     "name": "stdout",
     "output_type": "stream",
     "text": [
      "\n",
      "      Epoch    GPU_mem   box_loss   cls_loss   dfl_loss  Instances       Size\n"
     ]
    },
    {
     "name": "stderr",
     "output_type": "stream",
     "text": [
      "      13/50      9.62G      1.058      2.358      1.061        239        640: 100%|██████████| 19/19 [00:10<00:00,  1.77it/s]\n",
      "                 Class     Images  Instances      Box(P          R      mAP50  mAP50-95): 100%|██████████| 3/3 [00:01<00:00,  1.62it/s]"
     ]
    },
    {
     "name": "stdout",
     "output_type": "stream",
     "text": [
      "                   all        300       1192      0.469      0.108      0.087     0.0644\n"
     ]
    },
    {
     "name": "stderr",
     "output_type": "stream",
     "text": [
      "\n"
     ]
    },
    {
     "name": "stdout",
     "output_type": "stream",
     "text": [
      "\n",
      "      Epoch    GPU_mem   box_loss   cls_loss   dfl_loss  Instances       Size\n"
     ]
    },
    {
     "name": "stderr",
     "output_type": "stream",
     "text": [
      "      14/50      9.42G      1.047      2.322      1.054        259        640: 100%|██████████| 19/19 [00:11<00:00,  1.71it/s]\n",
      "                 Class     Images  Instances      Box(P          R      mAP50  mAP50-95): 100%|██████████| 3/3 [00:02<00:00,  1.49it/s]"
     ]
    },
    {
     "name": "stdout",
     "output_type": "stream",
     "text": [
      "                   all        300       1192      0.422      0.141      0.101     0.0773\n"
     ]
    },
    {
     "name": "stderr",
     "output_type": "stream",
     "text": [
      "\n"
     ]
    },
    {
     "name": "stdout",
     "output_type": "stream",
     "text": [
      "\n",
      "      Epoch    GPU_mem   box_loss   cls_loss   dfl_loss  Instances       Size\n"
     ]
    },
    {
     "name": "stderr",
     "output_type": "stream",
     "text": [
      "      15/50      9.62G      1.035      2.246      1.045        293        640: 100%|██████████| 19/19 [00:11<00:00,  1.71it/s]\n",
      "                 Class     Images  Instances      Box(P          R      mAP50  mAP50-95): 100%|██████████| 3/3 [00:01<00:00,  1.58it/s]"
     ]
    },
    {
     "name": "stdout",
     "output_type": "stream",
     "text": [
      "                   all        300       1192       0.48      0.116      0.101     0.0781\n"
     ]
    },
    {
     "name": "stderr",
     "output_type": "stream",
     "text": [
      "\n"
     ]
    },
    {
     "name": "stdout",
     "output_type": "stream",
     "text": [
      "\n",
      "      Epoch    GPU_mem   box_loss   cls_loss   dfl_loss  Instances       Size\n"
     ]
    },
    {
     "name": "stderr",
     "output_type": "stream",
     "text": [
      "      16/50      9.56G     0.9887      2.171      1.028        217        640: 100%|██████████| 19/19 [00:11<00:00,  1.72it/s]\n",
      "                 Class     Images  Instances      Box(P          R      mAP50  mAP50-95): 100%|██████████| 3/3 [00:01<00:00,  1.58it/s]"
     ]
    },
    {
     "name": "stdout",
     "output_type": "stream",
     "text": [
      "                   all        300       1192      0.456       0.15      0.122     0.0945\n"
     ]
    },
    {
     "name": "stderr",
     "output_type": "stream",
     "text": [
      "\n"
     ]
    },
    {
     "name": "stdout",
     "output_type": "stream",
     "text": [
      "\n",
      "      Epoch    GPU_mem   box_loss   cls_loss   dfl_loss  Instances       Size\n"
     ]
    },
    {
     "name": "stderr",
     "output_type": "stream",
     "text": [
      "      17/50      9.58G      1.002      2.105      1.035        264        640: 100%|██████████| 19/19 [00:10<00:00,  1.73it/s]\n",
      "                 Class     Images  Instances      Box(P          R      mAP50  mAP50-95): 100%|██████████| 3/3 [00:01<00:00,  1.65it/s]"
     ]
    },
    {
     "name": "stdout",
     "output_type": "stream",
     "text": [
      "                   all        300       1192      0.452      0.148      0.115     0.0864\n"
     ]
    },
    {
     "name": "stderr",
     "output_type": "stream",
     "text": [
      "\n"
     ]
    },
    {
     "name": "stdout",
     "output_type": "stream",
     "text": [
      "\n",
      "      Epoch    GPU_mem   box_loss   cls_loss   dfl_loss  Instances       Size\n"
     ]
    },
    {
     "name": "stderr",
     "output_type": "stream",
     "text": [
      "      18/50      10.3G     0.9951       2.06       1.03        233        640: 100%|██████████| 19/19 [00:10<00:00,  1.74it/s]\n",
      "                 Class     Images  Instances      Box(P          R      mAP50  mAP50-95): 100%|██████████| 3/3 [00:01<00:00,  1.50it/s]"
     ]
    },
    {
     "name": "stdout",
     "output_type": "stream",
     "text": [
      "                   all        300       1192      0.422      0.148      0.116      0.088\n"
     ]
    },
    {
     "name": "stderr",
     "output_type": "stream",
     "text": [
      "\n"
     ]
    },
    {
     "name": "stdout",
     "output_type": "stream",
     "text": [
      "\n",
      "      Epoch    GPU_mem   box_loss   cls_loss   dfl_loss  Instances       Size\n"
     ]
    },
    {
     "name": "stderr",
     "output_type": "stream",
     "text": [
      "      19/50      9.72G      1.006      2.018      1.024        328        640: 100%|██████████| 19/19 [00:10<00:00,  1.75it/s]\n",
      "                 Class     Images  Instances      Box(P          R      mAP50  mAP50-95): 100%|██████████| 3/3 [00:01<00:00,  1.63it/s]"
     ]
    },
    {
     "name": "stdout",
     "output_type": "stream",
     "text": [
      "                   all        300       1192      0.428      0.121      0.114     0.0878\n"
     ]
    },
    {
     "name": "stderr",
     "output_type": "stream",
     "text": [
      "\n"
     ]
    },
    {
     "name": "stdout",
     "output_type": "stream",
     "text": [
      "\n",
      "      Epoch    GPU_mem   box_loss   cls_loss   dfl_loss  Instances       Size\n"
     ]
    },
    {
     "name": "stderr",
     "output_type": "stream",
     "text": [
      "      20/50      8.61G     0.9637      1.928      1.013        254        640: 100%|██████████| 19/19 [00:10<00:00,  1.75it/s]\n",
      "                 Class     Images  Instances      Box(P          R      mAP50  mAP50-95): 100%|██████████| 3/3 [00:01<00:00,  1.52it/s]"
     ]
    },
    {
     "name": "stdout",
     "output_type": "stream",
     "text": [
      "                   all        300       1192      0.411      0.138      0.124     0.0959\n"
     ]
    },
    {
     "name": "stderr",
     "output_type": "stream",
     "text": [
      "\n"
     ]
    },
    {
     "name": "stdout",
     "output_type": "stream",
     "text": [
      "\n",
      "      Epoch    GPU_mem   box_loss   cls_loss   dfl_loss  Instances       Size\n"
     ]
    },
    {
     "name": "stderr",
     "output_type": "stream",
     "text": [
      "      21/50      10.2G     0.9601      1.902      1.021        254        640: 100%|██████████| 19/19 [00:10<00:00,  1.77it/s]\n",
      "                 Class     Images  Instances      Box(P          R      mAP50  mAP50-95): 100%|██████████| 3/3 [00:01<00:00,  1.57it/s]"
     ]
    },
    {
     "name": "stdout",
     "output_type": "stream",
     "text": [
      "                   all        300       1192      0.408      0.154      0.109     0.0839\n"
     ]
    },
    {
     "name": "stderr",
     "output_type": "stream",
     "text": [
      "\n"
     ]
    },
    {
     "name": "stdout",
     "output_type": "stream",
     "text": [
      "\n",
      "      Epoch    GPU_mem   box_loss   cls_loss   dfl_loss  Instances       Size\n"
     ]
    },
    {
     "name": "stderr",
     "output_type": "stream",
     "text": [
      "      22/50      9.99G     0.9753      1.956      1.024        179        640: 100%|██████████| 19/19 [00:10<00:00,  1.76it/s]\n",
      "                 Class     Images  Instances      Box(P          R      mAP50  mAP50-95): 100%|██████████| 3/3 [00:01<00:00,  1.60it/s]"
     ]
    },
    {
     "name": "stdout",
     "output_type": "stream",
     "text": [
      "                   all        300       1192      0.544      0.127      0.114     0.0848\n"
     ]
    },
    {
     "name": "stderr",
     "output_type": "stream",
     "text": [
      "\n"
     ]
    },
    {
     "name": "stdout",
     "output_type": "stream",
     "text": [
      "\n",
      "      Epoch    GPU_mem   box_loss   cls_loss   dfl_loss  Instances       Size\n"
     ]
    },
    {
     "name": "stderr",
     "output_type": "stream",
     "text": [
      "      23/50      8.85G     0.9555       1.86      1.022        317        640: 100%|██████████| 19/19 [00:11<00:00,  1.73it/s]\n",
      "                 Class     Images  Instances      Box(P          R      mAP50  mAP50-95): 100%|██████████| 3/3 [00:01<00:00,  1.60it/s]"
     ]
    },
    {
     "name": "stdout",
     "output_type": "stream",
     "text": [
      "                   all        300       1192      0.427      0.142      0.113      0.088\n"
     ]
    },
    {
     "name": "stderr",
     "output_type": "stream",
     "text": [
      "\n"
     ]
    },
    {
     "name": "stdout",
     "output_type": "stream",
     "text": [
      "\n",
      "      Epoch    GPU_mem   box_loss   cls_loss   dfl_loss  Instances       Size\n"
     ]
    },
    {
     "name": "stderr",
     "output_type": "stream",
     "text": [
      "      24/50      8.54G     0.9715       1.83      1.024        244        640: 100%|██████████| 19/19 [00:10<00:00,  1.76it/s]\n",
      "                 Class     Images  Instances      Box(P          R      mAP50  mAP50-95): 100%|██████████| 3/3 [00:01<00:00,  1.60it/s]"
     ]
    },
    {
     "name": "stdout",
     "output_type": "stream",
     "text": [
      "                   all        300       1192       0.42      0.146      0.114     0.0881\n"
     ]
    },
    {
     "name": "stderr",
     "output_type": "stream",
     "text": [
      "\n"
     ]
    },
    {
     "name": "stdout",
     "output_type": "stream",
     "text": [
      "\n",
      "      Epoch    GPU_mem   box_loss   cls_loss   dfl_loss  Instances       Size\n"
     ]
    },
    {
     "name": "stderr",
     "output_type": "stream",
     "text": [
      "      25/50      9.07G      0.931      1.712      1.002        293        640: 100%|██████████| 19/19 [00:10<00:00,  1.73it/s]\n",
      "                 Class     Images  Instances      Box(P          R      mAP50  mAP50-95): 100%|██████████| 3/3 [00:01<00:00,  1.65it/s]"
     ]
    },
    {
     "name": "stdout",
     "output_type": "stream",
     "text": [
      "                   all        300       1192      0.438       0.13      0.109     0.0831\n"
     ]
    },
    {
     "name": "stderr",
     "output_type": "stream",
     "text": [
      "\n"
     ]
    },
    {
     "name": "stdout",
     "output_type": "stream",
     "text": [
      "\n",
      "      Epoch    GPU_mem   box_loss   cls_loss   dfl_loss  Instances       Size\n"
     ]
    },
    {
     "name": "stderr",
     "output_type": "stream",
     "text": [
      "      26/50      10.7G     0.9411      1.713      1.009        212        640: 100%|██████████| 19/19 [00:10<00:00,  1.73it/s]\n",
      "                 Class     Images  Instances      Box(P          R      mAP50  mAP50-95): 100%|██████████| 3/3 [00:01<00:00,  1.67it/s]"
     ]
    },
    {
     "name": "stdout",
     "output_type": "stream",
     "text": [
      "                   all        300       1192      0.444      0.153      0.123      0.096\n"
     ]
    },
    {
     "name": "stderr",
     "output_type": "stream",
     "text": [
      "\n"
     ]
    },
    {
     "name": "stdout",
     "output_type": "stream",
     "text": [
      "\n",
      "      Epoch    GPU_mem   box_loss   cls_loss   dfl_loss  Instances       Size\n"
     ]
    },
    {
     "name": "stderr",
     "output_type": "stream",
     "text": [
      "      27/50      9.19G     0.9146      1.703     0.9952        268        640: 100%|██████████| 19/19 [00:10<00:00,  1.75it/s]\n",
      "                 Class     Images  Instances      Box(P          R      mAP50  mAP50-95): 100%|██████████| 3/3 [00:01<00:00,  1.66it/s]"
     ]
    },
    {
     "name": "stdout",
     "output_type": "stream",
     "text": [
      "                   all        300       1192      0.424      0.154      0.126     0.0958\n"
     ]
    },
    {
     "name": "stderr",
     "output_type": "stream",
     "text": [
      "\n"
     ]
    },
    {
     "name": "stdout",
     "output_type": "stream",
     "text": [
      "\n",
      "      Epoch    GPU_mem   box_loss   cls_loss   dfl_loss  Instances       Size\n"
     ]
    },
    {
     "name": "stderr",
     "output_type": "stream",
     "text": [
      "      28/50      9.68G     0.9138      1.633     0.9933        220        640: 100%|██████████| 19/19 [00:10<00:00,  1.75it/s]\n",
      "                 Class     Images  Instances      Box(P          R      mAP50  mAP50-95): 100%|██████████| 3/3 [00:01<00:00,  1.67it/s]"
     ]
    },
    {
     "name": "stdout",
     "output_type": "stream",
     "text": [
      "                   all        300       1192       0.44       0.13       0.13      0.104\n"
     ]
    },
    {
     "name": "stderr",
     "output_type": "stream",
     "text": [
      "\n"
     ]
    },
    {
     "name": "stdout",
     "output_type": "stream",
     "text": [
      "\n",
      "      Epoch    GPU_mem   box_loss   cls_loss   dfl_loss  Instances       Size\n"
     ]
    },
    {
     "name": "stderr",
     "output_type": "stream",
     "text": [
      "      29/50      9.28G     0.8911      1.609     0.9817        213        640: 100%|██████████| 19/19 [00:11<00:00,  1.72it/s]\n",
      "                 Class     Images  Instances      Box(P          R      mAP50  mAP50-95): 100%|██████████| 3/3 [00:01<00:00,  1.61it/s]"
     ]
    },
    {
     "name": "stdout",
     "output_type": "stream",
     "text": [
      "                   all        300       1192      0.455      0.132      0.116     0.0879\n"
     ]
    },
    {
     "name": "stderr",
     "output_type": "stream",
     "text": [
      "\n"
     ]
    },
    {
     "name": "stdout",
     "output_type": "stream",
     "text": [
      "\n",
      "      Epoch    GPU_mem   box_loss   cls_loss   dfl_loss  Instances       Size\n"
     ]
    },
    {
     "name": "stderr",
     "output_type": "stream",
     "text": [
      "      30/50      8.56G     0.9107      1.587     0.9913        268        640: 100%|██████████| 19/19 [00:11<00:00,  1.72it/s]\n",
      "                 Class     Images  Instances      Box(P          R      mAP50  mAP50-95): 100%|██████████| 3/3 [00:01<00:00,  1.57it/s]"
     ]
    },
    {
     "name": "stdout",
     "output_type": "stream",
     "text": [
      "                   all        300       1192      0.444      0.122      0.123     0.0972\n"
     ]
    },
    {
     "name": "stderr",
     "output_type": "stream",
     "text": [
      "\n"
     ]
    },
    {
     "name": "stdout",
     "output_type": "stream",
     "text": [
      "\n",
      "      Epoch    GPU_mem   box_loss   cls_loss   dfl_loss  Instances       Size\n"
     ]
    },
    {
     "name": "stderr",
     "output_type": "stream",
     "text": [
      "      31/50      8.49G     0.9109      1.547     0.9951        234        640: 100%|██████████| 19/19 [00:11<00:00,  1.70it/s]\n",
      "                 Class     Images  Instances      Box(P          R      mAP50  mAP50-95): 100%|██████████| 3/3 [00:01<00:00,  1.54it/s]"
     ]
    },
    {
     "name": "stdout",
     "output_type": "stream",
     "text": [
      "                   all        300       1192       0.44      0.133      0.129      0.101\n"
     ]
    },
    {
     "name": "stderr",
     "output_type": "stream",
     "text": [
      "\n"
     ]
    },
    {
     "name": "stdout",
     "output_type": "stream",
     "text": [
      "\n",
      "      Epoch    GPU_mem   box_loss   cls_loss   dfl_loss  Instances       Size\n"
     ]
    },
    {
     "name": "stderr",
     "output_type": "stream",
     "text": [
      "      32/50      8.49G     0.8992      1.537     0.9878        223        640: 100%|██████████| 19/19 [00:11<00:00,  1.69it/s]\n",
      "                 Class     Images  Instances      Box(P          R      mAP50  mAP50-95): 100%|██████████| 3/3 [00:01<00:00,  1.56it/s]"
     ]
    },
    {
     "name": "stdout",
     "output_type": "stream",
     "text": [
      "                   all        300       1192      0.503      0.124      0.133      0.103\n"
     ]
    },
    {
     "name": "stderr",
     "output_type": "stream",
     "text": [
      "\n"
     ]
    },
    {
     "name": "stdout",
     "output_type": "stream",
     "text": [
      "\n",
      "      Epoch    GPU_mem   box_loss   cls_loss   dfl_loss  Instances       Size\n"
     ]
    },
    {
     "name": "stderr",
     "output_type": "stream",
     "text": [
      "      33/50      8.62G     0.8967      1.533     0.9823        206        640: 100%|██████████| 19/19 [00:10<00:00,  1.74it/s]\n",
      "                 Class     Images  Instances      Box(P          R      mAP50  mAP50-95): 100%|██████████| 3/3 [00:01<00:00,  1.58it/s]"
     ]
    },
    {
     "name": "stdout",
     "output_type": "stream",
     "text": [
      "                   all        300       1192      0.436      0.148       0.14      0.112\n"
     ]
    },
    {
     "name": "stderr",
     "output_type": "stream",
     "text": [
      "\n"
     ]
    },
    {
     "name": "stdout",
     "output_type": "stream",
     "text": [
      "\n",
      "      Epoch    GPU_mem   box_loss   cls_loss   dfl_loss  Instances       Size\n"
     ]
    },
    {
     "name": "stderr",
     "output_type": "stream",
     "text": [
      "      34/50      10.1G     0.8815      1.452     0.9786        243        640: 100%|██████████| 19/19 [00:11<00:00,  1.72it/s]\n",
      "                 Class     Images  Instances      Box(P          R      mAP50  mAP50-95): 100%|██████████| 3/3 [00:01<00:00,  1.59it/s]"
     ]
    },
    {
     "name": "stdout",
     "output_type": "stream",
     "text": [
      "                   all        300       1192      0.423       0.17      0.143      0.113\n"
     ]
    },
    {
     "name": "stderr",
     "output_type": "stream",
     "text": [
      "\n"
     ]
    },
    {
     "name": "stdout",
     "output_type": "stream",
     "text": [
      "\n",
      "      Epoch    GPU_mem   box_loss   cls_loss   dfl_loss  Instances       Size\n"
     ]
    },
    {
     "name": "stderr",
     "output_type": "stream",
     "text": [
      "      35/50      9.21G     0.8761      1.444     0.9828        220        640: 100%|██████████| 19/19 [00:11<00:00,  1.71it/s]\n",
      "                 Class     Images  Instances      Box(P          R      mAP50  mAP50-95): 100%|██████████| 3/3 [00:01<00:00,  1.71it/s]"
     ]
    },
    {
     "name": "stdout",
     "output_type": "stream",
     "text": [
      "                   all        300       1192      0.338      0.185      0.148      0.119\n"
     ]
    },
    {
     "name": "stderr",
     "output_type": "stream",
     "text": [
      "\n"
     ]
    },
    {
     "name": "stdout",
     "output_type": "stream",
     "text": [
      "\n",
      "      Epoch    GPU_mem   box_loss   cls_loss   dfl_loss  Instances       Size\n"
     ]
    },
    {
     "name": "stderr",
     "output_type": "stream",
     "text": [
      "      36/50      9.07G     0.8718      1.427     0.9805        297        640: 100%|██████████| 19/19 [00:10<00:00,  1.81it/s]\n",
      "                 Class     Images  Instances      Box(P          R      mAP50  mAP50-95): 100%|██████████| 3/3 [00:01<00:00,  1.63it/s]"
     ]
    },
    {
     "name": "stdout",
     "output_type": "stream",
     "text": [
      "                   all        300       1192      0.324      0.191      0.154      0.121\n"
     ]
    },
    {
     "name": "stderr",
     "output_type": "stream",
     "text": [
      "\n"
     ]
    },
    {
     "name": "stdout",
     "output_type": "stream",
     "text": [
      "\n",
      "      Epoch    GPU_mem   box_loss   cls_loss   dfl_loss  Instances       Size\n"
     ]
    },
    {
     "name": "stderr",
     "output_type": "stream",
     "text": [
      "      37/50       8.6G     0.8773      1.414     0.9836        263        640: 100%|██████████| 19/19 [00:10<00:00,  1.82it/s]\n",
      "                 Class     Images  Instances      Box(P          R      mAP50  mAP50-95): 100%|██████████| 3/3 [00:01<00:00,  1.76it/s]"
     ]
    },
    {
     "name": "stdout",
     "output_type": "stream",
     "text": [
      "                   all        300       1192      0.338      0.196      0.177      0.145\n"
     ]
    },
    {
     "name": "stderr",
     "output_type": "stream",
     "text": [
      "\n"
     ]
    },
    {
     "name": "stdout",
     "output_type": "stream",
     "text": [
      "\n",
      "      Epoch    GPU_mem   box_loss   cls_loss   dfl_loss  Instances       Size\n"
     ]
    },
    {
     "name": "stderr",
     "output_type": "stream",
     "text": [
      "      38/50      10.1G     0.8488      1.359     0.9713        212        640: 100%|██████████| 19/19 [00:10<00:00,  1.84it/s]\n",
      "                 Class     Images  Instances      Box(P          R      mAP50  mAP50-95): 100%|██████████| 3/3 [00:01<00:00,  1.78it/s]"
     ]
    },
    {
     "name": "stdout",
     "output_type": "stream",
     "text": [
      "                   all        300       1192      0.358      0.187      0.177       0.15\n"
     ]
    },
    {
     "name": "stderr",
     "output_type": "stream",
     "text": [
      "\n"
     ]
    },
    {
     "name": "stdout",
     "output_type": "stream",
     "text": [
      "\n",
      "      Epoch    GPU_mem   box_loss   cls_loss   dfl_loss  Instances       Size\n"
     ]
    },
    {
     "name": "stderr",
     "output_type": "stream",
     "text": [
      "      39/50      8.96G     0.8846      1.372     0.9789        217        640: 100%|██████████| 19/19 [00:10<00:00,  1.85it/s]\n",
      "                 Class     Images  Instances      Box(P          R      mAP50  mAP50-95): 100%|██████████| 3/3 [00:01<00:00,  1.75it/s]"
     ]
    },
    {
     "name": "stdout",
     "output_type": "stream",
     "text": [
      "                   all        300       1192      0.349      0.205      0.179      0.149\n"
     ]
    },
    {
     "name": "stderr",
     "output_type": "stream",
     "text": [
      "\n"
     ]
    },
    {
     "name": "stdout",
     "output_type": "stream",
     "text": [
      "\n",
      "      Epoch    GPU_mem   box_loss   cls_loss   dfl_loss  Instances       Size\n"
     ]
    },
    {
     "name": "stderr",
     "output_type": "stream",
     "text": [
      "      40/50        10G     0.8581      1.347     0.9713        248        640: 100%|██████████| 19/19 [00:10<00:00,  1.85it/s]\n",
      "                 Class     Images  Instances      Box(P          R      mAP50  mAP50-95): 100%|██████████| 3/3 [00:01<00:00,  1.75it/s]"
     ]
    },
    {
     "name": "stdout",
     "output_type": "stream",
     "text": [
      "                   all        300       1192      0.324      0.193      0.176       0.14\n"
     ]
    },
    {
     "name": "stderr",
     "output_type": "stream",
     "text": [
      "\n"
     ]
    },
    {
     "name": "stdout",
     "output_type": "stream",
     "text": [
      "Closing dataloader mosaic\n",
      "\u001b[34m\u001b[1malbumentations: \u001b[0mBlur(p=0.01, blur_limit=(3, 7)), MedianBlur(p=0.01, blur_limit=(3, 7)), ToGray(p=0.01, num_output_channels=3, method='weighted_average'), CLAHE(p=0.01, clip_limit=(1.0, 4.0), tile_grid_size=(8, 8))\n",
      "\n",
      "      Epoch    GPU_mem   box_loss   cls_loss   dfl_loss  Instances       Size\n"
     ]
    },
    {
     "name": "stderr",
     "output_type": "stream",
     "text": [
      "      41/50      9.99G     0.8014      1.484     0.9201        125        640: 100%|██████████| 19/19 [00:14<00:00,  1.32it/s]\n",
      "                 Class     Images  Instances      Box(P          R      mAP50  mAP50-95): 100%|██████████| 3/3 [00:01<00:00,  1.67it/s]"
     ]
    },
    {
     "name": "stdout",
     "output_type": "stream",
     "text": [
      "                   all        300       1192      0.253      0.159      0.152      0.123\n"
     ]
    },
    {
     "name": "stderr",
     "output_type": "stream",
     "text": [
      "\n"
     ]
    },
    {
     "name": "stdout",
     "output_type": "stream",
     "text": [
      "\n",
      "      Epoch    GPU_mem   box_loss   cls_loss   dfl_loss  Instances       Size\n"
     ]
    },
    {
     "name": "stderr",
     "output_type": "stream",
     "text": [
      "      42/50       9.6G     0.7904        1.4     0.9217        101        640: 100%|██████████| 19/19 [00:10<00:00,  1.84it/s]\n",
      "                 Class     Images  Instances      Box(P          R      mAP50  mAP50-95): 100%|██████████| 3/3 [00:01<00:00,  1.71it/s]"
     ]
    },
    {
     "name": "stdout",
     "output_type": "stream",
     "text": [
      "                   all        300       1192      0.308      0.177      0.171      0.139\n"
     ]
    },
    {
     "name": "stderr",
     "output_type": "stream",
     "text": [
      "\n"
     ]
    },
    {
     "name": "stdout",
     "output_type": "stream",
     "text": [
      "\n",
      "      Epoch    GPU_mem   box_loss   cls_loss   dfl_loss  Instances       Size\n"
     ]
    },
    {
     "name": "stderr",
     "output_type": "stream",
     "text": [
      "      43/50      9.19G     0.7941      1.359     0.9216        173        640: 100%|██████████| 19/19 [00:10<00:00,  1.87it/s]\n",
      "                 Class     Images  Instances      Box(P          R      mAP50  mAP50-95): 100%|██████████| 3/3 [00:01<00:00,  1.74it/s]"
     ]
    },
    {
     "name": "stdout",
     "output_type": "stream",
     "text": [
      "                   all        300       1192       0.54      0.113      0.149      0.119\n"
     ]
    },
    {
     "name": "stderr",
     "output_type": "stream",
     "text": [
      "\n"
     ]
    },
    {
     "name": "stdout",
     "output_type": "stream",
     "text": [
      "\n",
      "      Epoch    GPU_mem   box_loss   cls_loss   dfl_loss  Instances       Size\n"
     ]
    },
    {
     "name": "stderr",
     "output_type": "stream",
     "text": [
      "      44/50      8.85G     0.7711      1.317     0.9112         98        640: 100%|██████████| 19/19 [00:10<00:00,  1.88it/s]\n",
      "                 Class     Images  Instances      Box(P          R      mAP50  mAP50-95): 100%|██████████| 3/3 [00:01<00:00,  1.75it/s]"
     ]
    },
    {
     "name": "stdout",
     "output_type": "stream",
     "text": [
      "                   all        300       1192      0.501      0.137      0.179      0.147\n"
     ]
    },
    {
     "name": "stderr",
     "output_type": "stream",
     "text": [
      "\n"
     ]
    },
    {
     "name": "stdout",
     "output_type": "stream",
     "text": [
      "\n",
      "      Epoch    GPU_mem   box_loss   cls_loss   dfl_loss  Instances       Size\n"
     ]
    },
    {
     "name": "stderr",
     "output_type": "stream",
     "text": [
      "      45/50      9.98G     0.7584      1.294     0.9105        112        640: 100%|██████████| 19/19 [00:10<00:00,  1.88it/s]\n",
      "                 Class     Images  Instances      Box(P          R      mAP50  mAP50-95): 100%|██████████| 3/3 [00:01<00:00,  1.78it/s]"
     ]
    },
    {
     "name": "stdout",
     "output_type": "stream",
     "text": [
      "                   all        300       1192      0.441      0.146      0.181      0.151\n"
     ]
    },
    {
     "name": "stderr",
     "output_type": "stream",
     "text": [
      "\n"
     ]
    },
    {
     "name": "stdout",
     "output_type": "stream",
     "text": [
      "\n",
      "      Epoch    GPU_mem   box_loss   cls_loss   dfl_loss  Instances       Size\n"
     ]
    },
    {
     "name": "stderr",
     "output_type": "stream",
     "text": [
      "      46/50      10.1G     0.7467      1.251     0.9011        105        640: 100%|██████████| 19/19 [00:10<00:00,  1.86it/s]\n",
      "                 Class     Images  Instances      Box(P          R      mAP50  mAP50-95): 100%|██████████| 3/3 [00:01<00:00,  1.78it/s]"
     ]
    },
    {
     "name": "stdout",
     "output_type": "stream",
     "text": [
      "                   all        300       1192      0.389      0.161      0.148      0.118\n"
     ]
    },
    {
     "name": "stderr",
     "output_type": "stream",
     "text": [
      "\n"
     ]
    },
    {
     "name": "stdout",
     "output_type": "stream",
     "text": [
      "\n",
      "      Epoch    GPU_mem   box_loss   cls_loss   dfl_loss  Instances       Size\n"
     ]
    },
    {
     "name": "stderr",
     "output_type": "stream",
     "text": [
      "      47/50      8.77G     0.7455      1.238     0.9058        109        640: 100%|██████████| 19/19 [00:10<00:00,  1.88it/s]\n",
      "                 Class     Images  Instances      Box(P          R      mAP50  mAP50-95): 100%|██████████| 3/3 [00:01<00:00,  1.78it/s]"
     ]
    },
    {
     "name": "stdout",
     "output_type": "stream",
     "text": [
      "                   all        300       1192      0.525      0.137      0.151       0.12\n"
     ]
    },
    {
     "name": "stderr",
     "output_type": "stream",
     "text": [
      "\n"
     ]
    },
    {
     "name": "stdout",
     "output_type": "stream",
     "text": [
      "\n",
      "      Epoch    GPU_mem   box_loss   cls_loss   dfl_loss  Instances       Size\n"
     ]
    },
    {
     "name": "stderr",
     "output_type": "stream",
     "text": [
      "      48/50      9.07G      0.731      1.199     0.8996        131        640: 100%|██████████| 19/19 [00:10<00:00,  1.88it/s]\n",
      "                 Class     Images  Instances      Box(P          R      mAP50  mAP50-95): 100%|██████████| 3/3 [00:01<00:00,  1.74it/s]"
     ]
    },
    {
     "name": "stdout",
     "output_type": "stream",
     "text": [
      "                   all        300       1192      0.557      0.122      0.154      0.123\n"
     ]
    },
    {
     "name": "stderr",
     "output_type": "stream",
     "text": [
      "\n"
     ]
    },
    {
     "name": "stdout",
     "output_type": "stream",
     "text": [
      "\n",
      "      Epoch    GPU_mem   box_loss   cls_loss   dfl_loss  Instances       Size\n"
     ]
    },
    {
     "name": "stderr",
     "output_type": "stream",
     "text": [
      "      49/50       9.6G     0.7426      1.199     0.9043        141        640: 100%|██████████| 19/19 [00:10<00:00,  1.87it/s]\n",
      "                 Class     Images  Instances      Box(P          R      mAP50  mAP50-95): 100%|██████████| 3/3 [00:01<00:00,  1.76it/s]"
     ]
    },
    {
     "name": "stdout",
     "output_type": "stream",
     "text": [
      "                   all        300       1192      0.376      0.157      0.178      0.143\n"
     ]
    },
    {
     "name": "stderr",
     "output_type": "stream",
     "text": [
      "\n"
     ]
    },
    {
     "name": "stdout",
     "output_type": "stream",
     "text": [
      "\n",
      "      Epoch    GPU_mem   box_loss   cls_loss   dfl_loss  Instances       Size\n"
     ]
    },
    {
     "name": "stderr",
     "output_type": "stream",
     "text": [
      "      50/50      9.12G     0.7508      1.218     0.9163        126        640: 100%|██████████| 19/19 [00:10<00:00,  1.88it/s]\n",
      "                 Class     Images  Instances      Box(P          R      mAP50  mAP50-95): 100%|██████████| 3/3 [00:01<00:00,  1.73it/s]"
     ]
    },
    {
     "name": "stdout",
     "output_type": "stream",
     "text": [
      "                   all        300       1192      0.373      0.155      0.178      0.144\n"
     ]
    },
    {
     "name": "stderr",
     "output_type": "stream",
     "text": [
      "\n"
     ]
    },
    {
     "name": "stdout",
     "output_type": "stream",
     "text": [
      "\n",
      "50 epochs completed in 0.187 hours.\n",
      "Optimizer stripped from runs\\detect\\yolov8s-seg_EnviroScan_Results3\\weights\\last.pt, 6.2MB\n",
      "Optimizer stripped from runs\\detect\\yolov8s-seg_EnviroScan_Results3\\weights\\best.pt, 6.2MB\n",
      "\n",
      "Validating runs\\detect\\yolov8s-seg_EnviroScan_Results3\\weights\\best.pt...\n",
      "Ultralytics 8.3.67  Python-3.12.3 torch-2.5.1+cu118 CUDA:0 (NVIDIA GeForce RTX 4060 Ti, 16380MiB)\n",
      "Model summary (fused): 168 layers, 3,011,108 parameters, 0 gradients, 8.1 GFLOPs\n"
     ]
    },
    {
     "name": "stderr",
     "output_type": "stream",
     "text": [
      "                 Class     Images  Instances      Box(P          R      mAP50  mAP50-95): 100%|██████████| 3/3 [00:03<00:00,  1.01s/it]\n"
     ]
    },
    {
     "name": "stdout",
     "output_type": "stream",
     "text": [
      "                   all        300       1192      0.435      0.168      0.156      0.123\n",
      "        Aluminium foil         11         13      0.389      0.308      0.327      0.271\n",
      "          Blister pack          1          1          1          0     0.0144     0.0144\n",
      "                Bottle         70         94      0.398      0.564      0.514      0.403\n",
      "            Bottle cap         47         59      0.373      0.288      0.263      0.175\n",
      "          Broken glass          4         55          1          0          0          0\n",
      "                   Can         34         49      0.318      0.633      0.567      0.434\n",
      "                Carton         42         60       0.28       0.45      0.312      0.242\n",
      "                   Cup         33         40      0.281        0.4      0.288      0.193\n",
      "            Food waste          2          2          1          0          0          0\n",
      "             Glass jar          1          1          0          0     0.0332     0.0298\n",
      "                   Lid         13         15       0.24      0.253      0.178      0.164\n",
      "         Other plastic         39         90      0.198     0.0935     0.0768     0.0632\n",
      "                 Paper         25         31      0.155      0.172      0.101     0.0775\n",
      "             Paper bag          4          4          0          0     0.0432     0.0431\n",
      " Plastic bag & wrapper        103        232      0.304       0.31      0.246      0.162\n",
      "     Plastic container         17         18       0.15      0.333      0.224        0.2\n",
      "       Plastic glooves          1          1          1          0      0.332      0.332\n",
      "      Plastic utensils          5          5      0.163        0.2     0.0798     0.0784\n",
      "               Pop tab         16         26      0.282     0.0466     0.0677      0.052\n",
      "        Rope & strings          6          6          0          0      0.074     0.0272\n",
      "           Scrap metal          5          5          1          0     0.0235     0.0153\n",
      "                  Shoe          1          1          1          0    0.00777      0.007\n",
      "       Squeezable tube          2          2          1          0          0          0\n",
      "                 Straw         28         33      0.478      0.152      0.134      0.108\n",
      "       Styrofoam piece         17         26      0.333      0.269       0.22        0.2\n",
      "      Unlabeled litter         70        162      0.202     0.0556     0.0604     0.0284\n",
      "             Cigarette         49        161      0.197     0.0186     0.0186     0.0083\n",
      "Speed: 0.3ms preprocess, 5.4ms inference, 0.0ms loss, 1.2ms postprocess per image\n",
      "Results saved to \u001b[1mruns\\detect\\yolov8s-seg_EnviroScan_Results3\u001b[0m\n"
     ]
    }
   ],
   "source": [
    "from ultralytics import YOLO\n",
    "\n",
    "model = YOLO('yolov8n.pt')\n",
    "\n",
    "# Train the model\n",
    "results = model.train(\n",
    "    data='./data/yolo_data.yaml',  # Path to the data.yaml file\n",
    "    epochs=50,                # Number of training epochs\n",
    "    imgsz=640,                # Image size\n",
    "    batch=64,                 # Batch size\n",
    "    augment=True,            # Enable data augmentation\n",
    "    name='yolov8s-seg_EnviroScan_Results'  # Experiment name (results will be saved under this name)\n",
    ")"
   ]
  },
  {
   "cell_type": "code",
   "execution_count": 15,
   "metadata": {},
   "outputs": [],
   "source": [
    "%matplotlib inline"
   ]
  },
  {
   "cell_type": "code",
   "execution_count": 35,
   "metadata": {},
   "outputs": [
    {
     "name": "stdout",
     "output_type": "stream",
     "text": [
      "\n",
      "image 1/300 c:\\Users\\shrit\\Desktop\\Ml_Projects\\EnviroScan\\EnviroScan\\data\\val\\images\\0.jpg: 640x480 1 Bottle, 12.6ms\n",
      "image 2/300 c:\\Users\\shrit\\Desktop\\Ml_Projects\\EnviroScan\\EnviroScan\\data\\val\\images\\1001.jpg: 480x640 1 Paper, 6.5ms\n",
      "image 3/300 c:\\Users\\shrit\\Desktop\\Ml_Projects\\EnviroScan\\EnviroScan\\data\\val\\images\\1006.jpg: 480x640 1 Styrofoam piece, 6.5ms\n",
      "image 4/300 c:\\Users\\shrit\\Desktop\\Ml_Projects\\EnviroScan\\EnviroScan\\data\\val\\images\\101.jpg: 640x320 (no detections), 6.0ms\n",
      "image 5/300 c:\\Users\\shrit\\Desktop\\Ml_Projects\\EnviroScan\\EnviroScan\\data\\val\\images\\102.jpg: 320x640 1 Bottle, 2 Plastic bag & wrappers, 5.5ms\n",
      "image 6/300 c:\\Users\\shrit\\Desktop\\Ml_Projects\\EnviroScan\\EnviroScan\\data\\val\\images\\1021.jpg: 480x640 1 Plastic bag & wrapper, 7.5ms\n",
      "image 7/300 c:\\Users\\shrit\\Desktop\\Ml_Projects\\EnviroScan\\EnviroScan\\data\\val\\images\\1024.jpg: 480x640 (no detections), 5.5ms\n",
      "image 8/300 c:\\Users\\shrit\\Desktop\\Ml_Projects\\EnviroScan\\EnviroScan\\data\\val\\images\\1029.jpg: 640x480 3 Cans, 7.1ms\n",
      "image 9/300 c:\\Users\\shrit\\Desktop\\Ml_Projects\\EnviroScan\\EnviroScan\\data\\val\\images\\104.jpg: 320x640 2 Bottles, 1 Plastic bag & wrapper, 6.5ms\n",
      "image 10/300 c:\\Users\\shrit\\Desktop\\Ml_Projects\\EnviroScan\\EnviroScan\\data\\val\\images\\1043.jpg: 640x480 2 Cups, 7.2ms\n",
      "image 11/300 c:\\Users\\shrit\\Desktop\\Ml_Projects\\EnviroScan\\EnviroScan\\data\\val\\images\\1044.jpg: 640x480 1 Bottle, 1 Can, 6.0ms\n",
      "image 12/300 c:\\Users\\shrit\\Desktop\\Ml_Projects\\EnviroScan\\EnviroScan\\data\\val\\images\\1048.jpg: 640x480 (no detections), 4.0ms\n",
      "image 13/300 c:\\Users\\shrit\\Desktop\\Ml_Projects\\EnviroScan\\EnviroScan\\data\\val\\images\\105.jpg: 640x320 1 Bottle, 1 Paper, 2 Plastic bag & wrappers, 5.6ms\n",
      "image 14/300 c:\\Users\\shrit\\Desktop\\Ml_Projects\\EnviroScan\\EnviroScan\\data\\val\\images\\1055.jpg: 640x480 (no detections), 7.6ms\n",
      "image 15/300 c:\\Users\\shrit\\Desktop\\Ml_Projects\\EnviroScan\\EnviroScan\\data\\val\\images\\1066.jpg: 640x480 1 Cup, 1 Plastic bag & wrapper, 5.5ms\n",
      "image 16/300 c:\\Users\\shrit\\Desktop\\Ml_Projects\\EnviroScan\\EnviroScan\\data\\val\\images\\1067.jpg: 640x480 (no detections), 6.2ms\n",
      "image 17/300 c:\\Users\\shrit\\Desktop\\Ml_Projects\\EnviroScan\\EnviroScan\\data\\val\\images\\107.jpg: 640x320 1 Paper, 1 Plastic bag & wrapper, 9.1ms\n",
      "image 18/300 c:\\Users\\shrit\\Desktop\\Ml_Projects\\EnviroScan\\EnviroScan\\data\\val\\images\\1071.jpg: 640x480 1 Plastic bag & wrapper, 13.6ms\n",
      "image 19/300 c:\\Users\\shrit\\Desktop\\Ml_Projects\\EnviroScan\\EnviroScan\\data\\val\\images\\1075.jpg: 640x480 1 Carton, 7.3ms\n",
      "image 20/300 c:\\Users\\shrit\\Desktop\\Ml_Projects\\EnviroScan\\EnviroScan\\data\\val\\images\\1076.jpg: 640x480 1 Bottle, 5.5ms\n",
      "image 21/300 c:\\Users\\shrit\\Desktop\\Ml_Projects\\EnviroScan\\EnviroScan\\data\\val\\images\\1077.jpg: 640x480 1 Aluminium foil, 1 Bottle, 5.5ms\n",
      "image 22/300 c:\\Users\\shrit\\Desktop\\Ml_Projects\\EnviroScan\\EnviroScan\\data\\val\\images\\1080.jpg: 480x640 1 Bottle, 1 Plastic bag & wrapper, 6.5ms\n",
      "image 23/300 c:\\Users\\shrit\\Desktop\\Ml_Projects\\EnviroScan\\EnviroScan\\data\\val\\images\\1089.jpg: 640x480 2 Plastic bag & wrappers, 1 Unlabeled litter, 6.0ms\n",
      "image 24/300 c:\\Users\\shrit\\Desktop\\Ml_Projects\\EnviroScan\\EnviroScan\\data\\val\\images\\1090.jpg: 640x480 2 Plastic bag & wrappers, 5.0ms\n",
      "image 25/300 c:\\Users\\shrit\\Desktop\\Ml_Projects\\EnviroScan\\EnviroScan\\data\\val\\images\\1095.jpg: 480x640 1 Carton, 1 Plastic bag & wrapper, 6.9ms\n",
      "image 26/300 c:\\Users\\shrit\\Desktop\\Ml_Projects\\EnviroScan\\EnviroScan\\data\\val\\images\\110.jpg: 320x640 2 Plastic bag & wrappers, 6.6ms\n",
      "image 27/300 c:\\Users\\shrit\\Desktop\\Ml_Projects\\EnviroScan\\EnviroScan\\data\\val\\images\\1101.jpg: 480x640 4 Bottles, 5.5ms\n",
      "image 28/300 c:\\Users\\shrit\\Desktop\\Ml_Projects\\EnviroScan\\EnviroScan\\data\\val\\images\\1104.jpg: 640x480 1 Carton, 5.5ms\n",
      "image 29/300 c:\\Users\\shrit\\Desktop\\Ml_Projects\\EnviroScan\\EnviroScan\\data\\val\\images\\1113.jpg: 640x480 1 Bottle, 1 Plastic bag & wrapper, 6.5ms\n",
      "image 30/300 c:\\Users\\shrit\\Desktop\\Ml_Projects\\EnviroScan\\EnviroScan\\data\\val\\images\\1117.jpg: 640x480 2 Cartons, 7.5ms\n",
      "image 31/300 c:\\Users\\shrit\\Desktop\\Ml_Projects\\EnviroScan\\EnviroScan\\data\\val\\images\\1121.jpg: 480x640 2 Aluminium foils, 1 Bottle, 2 Cartons, 1 Cup, 6.5ms\n",
      "image 32/300 c:\\Users\\shrit\\Desktop\\Ml_Projects\\EnviroScan\\EnviroScan\\data\\val\\images\\1124.jpg: 480x640 1 Cup, 1 Plastic container, 5.5ms\n",
      "image 33/300 c:\\Users\\shrit\\Desktop\\Ml_Projects\\EnviroScan\\EnviroScan\\data\\val\\images\\1127.jpg: 640x480 1 Bottle, 6.5ms\n",
      "image 34/300 c:\\Users\\shrit\\Desktop\\Ml_Projects\\EnviroScan\\EnviroScan\\data\\val\\images\\1130.jpg: 480x640 (no detections), 6.0ms\n",
      "image 35/300 c:\\Users\\shrit\\Desktop\\Ml_Projects\\EnviroScan\\EnviroScan\\data\\val\\images\\1131.jpg: 480x640 1 Bottle, 1 Bottle cap, 5.5ms\n",
      "image 36/300 c:\\Users\\shrit\\Desktop\\Ml_Projects\\EnviroScan\\EnviroScan\\data\\val\\images\\1134.jpg: 480x640 2 Plastic bag & wrappers, 7.0ms\n",
      "image 37/300 c:\\Users\\shrit\\Desktop\\Ml_Projects\\EnviroScan\\EnviroScan\\data\\val\\images\\1146.jpg: 640x480 (no detections), 6.0ms\n",
      "image 38/300 c:\\Users\\shrit\\Desktop\\Ml_Projects\\EnviroScan\\EnviroScan\\data\\val\\images\\1147.jpg: 480x640 2 Bottles, 1 Unlabeled litter, 6.5ms\n",
      "image 39/300 c:\\Users\\shrit\\Desktop\\Ml_Projects\\EnviroScan\\EnviroScan\\data\\val\\images\\1159.jpg: 640x480 1 Bottle, 2 Cartons, 1 Plastic bag & wrapper, 7.1ms\n",
      "image 40/300 c:\\Users\\shrit\\Desktop\\Ml_Projects\\EnviroScan\\EnviroScan\\data\\val\\images\\1164.jpg: 640x480 1 Bottle, 4.6ms\n",
      "image 41/300 c:\\Users\\shrit\\Desktop\\Ml_Projects\\EnviroScan\\EnviroScan\\data\\val\\images\\1165.jpg: 480x640 1 Carton, 5.5ms\n",
      "image 42/300 c:\\Users\\shrit\\Desktop\\Ml_Projects\\EnviroScan\\EnviroScan\\data\\val\\images\\1172.jpg: 640x480 2 Cartons, 6.0ms\n",
      "image 43/300 c:\\Users\\shrit\\Desktop\\Ml_Projects\\EnviroScan\\EnviroScan\\data\\val\\images\\1177.jpg: 448x640 1 Plastic container, 6.0ms\n",
      "image 44/300 c:\\Users\\shrit\\Desktop\\Ml_Projects\\EnviroScan\\EnviroScan\\data\\val\\images\\1179.jpg: 448x640 1 Other plastic, 1 Plastic utensils, 5.5ms\n",
      "image 45/300 c:\\Users\\shrit\\Desktop\\Ml_Projects\\EnviroScan\\EnviroScan\\data\\val\\images\\1182.jpg: 448x640 3 Plastic bag & wrappers, 4.5ms\n",
      "image 46/300 c:\\Users\\shrit\\Desktop\\Ml_Projects\\EnviroScan\\EnviroScan\\data\\val\\images\\1184.jpg: 480x640 1 Bottle, 6.0ms\n",
      "image 47/300 c:\\Users\\shrit\\Desktop\\Ml_Projects\\EnviroScan\\EnviroScan\\data\\val\\images\\1185.jpg: 480x640 (no detections), 6.0ms\n",
      "image 48/300 c:\\Users\\shrit\\Desktop\\Ml_Projects\\EnviroScan\\EnviroScan\\data\\val\\images\\1186.jpg: 640x480 1 Glass jar, 1 Plastic bag & wrapper, 7.2ms\n",
      "image 49/300 c:\\Users\\shrit\\Desktop\\Ml_Projects\\EnviroScan\\EnviroScan\\data\\val\\images\\1187.jpg: 640x480 1 Bottle, 6.0ms\n",
      "image 50/300 c:\\Users\\shrit\\Desktop\\Ml_Projects\\EnviroScan\\EnviroScan\\data\\val\\images\\1192.jpg: 480x640 1 Plastic bag & wrapper, 5.0ms\n",
      "image 51/300 c:\\Users\\shrit\\Desktop\\Ml_Projects\\EnviroScan\\EnviroScan\\data\\val\\images\\1194.jpg: 640x480 3 Plastic bag & wrappers, 6.0ms\n",
      "image 52/300 c:\\Users\\shrit\\Desktop\\Ml_Projects\\EnviroScan\\EnviroScan\\data\\val\\images\\1198.jpg: 640x480 1 Cup, 6.2ms\n",
      "image 53/300 c:\\Users\\shrit\\Desktop\\Ml_Projects\\EnviroScan\\EnviroScan\\data\\val\\images\\1202.jpg: 480x640 1 Plastic bag & wrapper, 6.5ms\n",
      "image 54/300 c:\\Users\\shrit\\Desktop\\Ml_Projects\\EnviroScan\\EnviroScan\\data\\val\\images\\1203.jpg: 480x640 1 Carton, 1 Cup, 1 Paper bag, 3 Plastic bag & wrappers, 1 Plastic container, 5.0ms\n",
      "image 55/300 c:\\Users\\shrit\\Desktop\\Ml_Projects\\EnviroScan\\EnviroScan\\data\\val\\images\\1211.jpg: 640x480 1 Plastic bag & wrapper, 7.0ms\n",
      "image 56/300 c:\\Users\\shrit\\Desktop\\Ml_Projects\\EnviroScan\\EnviroScan\\data\\val\\images\\1212.jpg: 640x480 1 Can, 4.5ms\n",
      "image 57/300 c:\\Users\\shrit\\Desktop\\Ml_Projects\\EnviroScan\\EnviroScan\\data\\val\\images\\1213.jpg: 640x480 1 Bottle, 2 Cans, 3 Plastic bag & wrappers, 5.5ms\n",
      "image 58/300 c:\\Users\\shrit\\Desktop\\Ml_Projects\\EnviroScan\\EnviroScan\\data\\val\\images\\1215.jpg: 640x480 3 Plastic bag & wrappers, 5.6ms\n",
      "image 59/300 c:\\Users\\shrit\\Desktop\\Ml_Projects\\EnviroScan\\EnviroScan\\data\\val\\images\\1218.jpg: 480x640 1 Plastic bag & wrapper, 6.0ms\n",
      "image 60/300 c:\\Users\\shrit\\Desktop\\Ml_Projects\\EnviroScan\\EnviroScan\\data\\val\\images\\1224.jpg: 640x480 (no detections), 6.0ms\n",
      "image 61/300 c:\\Users\\shrit\\Desktop\\Ml_Projects\\EnviroScan\\EnviroScan\\data\\val\\images\\1235.jpg: 640x480 (no detections), 4.5ms\n",
      "image 62/300 c:\\Users\\shrit\\Desktop\\Ml_Projects\\EnviroScan\\EnviroScan\\data\\val\\images\\1237.jpg: 640x480 1 Bottle, 4.6ms\n",
      "image 63/300 c:\\Users\\shrit\\Desktop\\Ml_Projects\\EnviroScan\\EnviroScan\\data\\val\\images\\1239.jpg: 640x480 1 Bottle, 1 Bottle cap, 1 Can, 3 Cartons, 1 Plastic bag & wrapper, 5.0ms\n",
      "image 64/300 c:\\Users\\shrit\\Desktop\\Ml_Projects\\EnviroScan\\EnviroScan\\data\\val\\images\\1240.jpg: 640x480 1 Carton, 1 Cup, 1 Plastic container, 5.0ms\n",
      "image 65/300 c:\\Users\\shrit\\Desktop\\Ml_Projects\\EnviroScan\\EnviroScan\\data\\val\\images\\1245.jpg: 640x640 1 Cup, 7.0ms\n",
      "image 66/300 c:\\Users\\shrit\\Desktop\\Ml_Projects\\EnviroScan\\EnviroScan\\data\\val\\images\\1250.jpg: 480x640 1 Carton, 2 Plastic bag & wrappers, 6.0ms\n",
      "image 67/300 c:\\Users\\shrit\\Desktop\\Ml_Projects\\EnviroScan\\EnviroScan\\data\\val\\images\\1261.jpg: 480x640 1 Other plastic, 4.1ms\n",
      "image 68/300 c:\\Users\\shrit\\Desktop\\Ml_Projects\\EnviroScan\\EnviroScan\\data\\val\\images\\1274.jpg: 480x640 1 Styrofoam piece, 6.8ms\n",
      "image 69/300 c:\\Users\\shrit\\Desktop\\Ml_Projects\\EnviroScan\\EnviroScan\\data\\val\\images\\1275.jpg: 480x640 1 Other plastic, 6.0ms\n",
      "image 70/300 c:\\Users\\shrit\\Desktop\\Ml_Projects\\EnviroScan\\EnviroScan\\data\\val\\images\\1285.jpg: 640x480 (no detections), 6.5ms\n",
      "image 71/300 c:\\Users\\shrit\\Desktop\\Ml_Projects\\EnviroScan\\EnviroScan\\data\\val\\images\\1290.jpg: 480x640 2 Plastic bag & wrappers, 9.5ms\n",
      "image 72/300 c:\\Users\\shrit\\Desktop\\Ml_Projects\\EnviroScan\\EnviroScan\\data\\val\\images\\1300.jpg: 480x640 1 Cup, 1 Other plastic, 6.0ms\n",
      "image 73/300 c:\\Users\\shrit\\Desktop\\Ml_Projects\\EnviroScan\\EnviroScan\\data\\val\\images\\1314.jpg: 480x640 1 Bottle, 14 Cans, 8.9ms\n",
      "image 74/300 c:\\Users\\shrit\\Desktop\\Ml_Projects\\EnviroScan\\EnviroScan\\data\\val\\images\\132.jpg: 640x320 (no detections), 6.6ms\n",
      "image 75/300 c:\\Users\\shrit\\Desktop\\Ml_Projects\\EnviroScan\\EnviroScan\\data\\val\\images\\1320.jpg: 640x480 (no detections), 5.5ms\n",
      "image 76/300 c:\\Users\\shrit\\Desktop\\Ml_Projects\\EnviroScan\\EnviroScan\\data\\val\\images\\1321.jpg: 480x640 1 Can, 5.5ms\n",
      "image 77/300 c:\\Users\\shrit\\Desktop\\Ml_Projects\\EnviroScan\\EnviroScan\\data\\val\\images\\1323.jpg: 480x640 1 Plastic container, 4.5ms\n",
      "image 78/300 c:\\Users\\shrit\\Desktop\\Ml_Projects\\EnviroScan\\EnviroScan\\data\\val\\images\\1327.jpg: 640x480 1 Bottle, 7.5ms\n",
      "image 79/300 c:\\Users\\shrit\\Desktop\\Ml_Projects\\EnviroScan\\EnviroScan\\data\\val\\images\\1340.jpg: 640x480 1 Bottle, 1 Bottle cap, 5.0ms\n",
      "image 80/300 c:\\Users\\shrit\\Desktop\\Ml_Projects\\EnviroScan\\EnviroScan\\data\\val\\images\\1349.jpg: 480x640 (no detections), 5.5ms\n",
      "image 81/300 c:\\Users\\shrit\\Desktop\\Ml_Projects\\EnviroScan\\EnviroScan\\data\\val\\images\\135.jpg: 640x320 2 Bottles, 7.0ms\n",
      "image 82/300 c:\\Users\\shrit\\Desktop\\Ml_Projects\\EnviroScan\\EnviroScan\\data\\val\\images\\1350.jpg: 480x640 1 Plastic bag & wrapper, 5.5ms\n",
      "image 83/300 c:\\Users\\shrit\\Desktop\\Ml_Projects\\EnviroScan\\EnviroScan\\data\\val\\images\\1353.jpg: 480x640 1 Plastic bag & wrapper, 7.5ms\n",
      "image 84/300 c:\\Users\\shrit\\Desktop\\Ml_Projects\\EnviroScan\\EnviroScan\\data\\val\\images\\137.jpg: 640x320 1 Plastic bag & wrapper, 11.8ms\n",
      "image 85/300 c:\\Users\\shrit\\Desktop\\Ml_Projects\\EnviroScan\\EnviroScan\\data\\val\\images\\1382.jpg: 640x384 1 Plastic bag & wrapper, 8.5ms\n",
      "image 86/300 c:\\Users\\shrit\\Desktop\\Ml_Projects\\EnviroScan\\EnviroScan\\data\\val\\images\\1383.jpg: 640x384 1 Can, 5.0ms\n",
      "image 87/300 c:\\Users\\shrit\\Desktop\\Ml_Projects\\EnviroScan\\EnviroScan\\data\\val\\images\\1393.jpg: 640x384 1 Bottle, 4.5ms\n",
      "image 88/300 c:\\Users\\shrit\\Desktop\\Ml_Projects\\EnviroScan\\EnviroScan\\data\\val\\images\\1395.jpg: 640x384 1 Plastic bag & wrapper, 5.5ms\n",
      "image 89/300 c:\\Users\\shrit\\Desktop\\Ml_Projects\\EnviroScan\\EnviroScan\\data\\val\\images\\1397.jpg: 640x384 1 Bottle, 1 Can, 9.5ms\n",
      "image 90/300 c:\\Users\\shrit\\Desktop\\Ml_Projects\\EnviroScan\\EnviroScan\\data\\val\\images\\1400.jpg: 480x640 1 Carton, 6.5ms\n",
      "image 91/300 c:\\Users\\shrit\\Desktop\\Ml_Projects\\EnviroScan\\EnviroScan\\data\\val\\images\\1409.jpg: 480x640 1 Plastic bag & wrapper, 5.0ms\n",
      "image 92/300 c:\\Users\\shrit\\Desktop\\Ml_Projects\\EnviroScan\\EnviroScan\\data\\val\\images\\1410.jpg: 480x640 1 Other plastic, 4.0ms\n",
      "image 93/300 c:\\Users\\shrit\\Desktop\\Ml_Projects\\EnviroScan\\EnviroScan\\data\\val\\images\\1411.jpg: 480x640 2 Plastic bag & wrappers, 7.0ms\n",
      "image 94/300 c:\\Users\\shrit\\Desktop\\Ml_Projects\\EnviroScan\\EnviroScan\\data\\val\\images\\1413.jpg: 480x640 1 Bottle, 1 Other plastic, 6.0ms\n",
      "image 95/300 c:\\Users\\shrit\\Desktop\\Ml_Projects\\EnviroScan\\EnviroScan\\data\\val\\images\\1417.jpg: 640x480 1 Plastic bag & wrapper, 6.1ms\n",
      "image 96/300 c:\\Users\\shrit\\Desktop\\Ml_Projects\\EnviroScan\\EnviroScan\\data\\val\\images\\1419.jpg: 480x640 (no detections), 6.0ms\n",
      "image 97/300 c:\\Users\\shrit\\Desktop\\Ml_Projects\\EnviroScan\\EnviroScan\\data\\val\\images\\1423.jpg: 480x640 (no detections), 5.0ms\n",
      "image 98/300 c:\\Users\\shrit\\Desktop\\Ml_Projects\\EnviroScan\\EnviroScan\\data\\val\\images\\1434.jpg: 640x480 1 Plastic bag & wrapper, 5.0ms\n",
      "image 99/300 c:\\Users\\shrit\\Desktop\\Ml_Projects\\EnviroScan\\EnviroScan\\data\\val\\images\\1436.jpg: 640x480 2 Plastic bag & wrappers, 6.5ms\n",
      "image 100/300 c:\\Users\\shrit\\Desktop\\Ml_Projects\\EnviroScan\\EnviroScan\\data\\val\\images\\1442.jpg: 640x480 2 Plastic bag & wrappers, 7.1ms\n",
      "image 101/300 c:\\Users\\shrit\\Desktop\\Ml_Projects\\EnviroScan\\EnviroScan\\data\\val\\images\\1446.jpg: 640x480 2 Plastic bag & wrappers, 6.0ms\n",
      "image 102/300 c:\\Users\\shrit\\Desktop\\Ml_Projects\\EnviroScan\\EnviroScan\\data\\val\\images\\1447.jpg: 640x480 1 Plastic bag & wrapper, 5.0ms\n",
      "image 103/300 c:\\Users\\shrit\\Desktop\\Ml_Projects\\EnviroScan\\EnviroScan\\data\\val\\images\\1450.jpg: 480x640 1 Styrofoam piece, 4.5ms\n",
      "image 104/300 c:\\Users\\shrit\\Desktop\\Ml_Projects\\EnviroScan\\EnviroScan\\data\\val\\images\\1454.jpg: 480x640 1 Other plastic, 5.0ms\n",
      "image 105/300 c:\\Users\\shrit\\Desktop\\Ml_Projects\\EnviroScan\\EnviroScan\\data\\val\\images\\1459.jpg: 640x480 1 Paper, 1 Plastic bag & wrapper, 7.0ms\n",
      "image 106/300 c:\\Users\\shrit\\Desktop\\Ml_Projects\\EnviroScan\\EnviroScan\\data\\val\\images\\1464.jpg: 480x640 1 Bottle, 3 Plastic bag & wrappers, 7.0ms\n",
      "image 107/300 c:\\Users\\shrit\\Desktop\\Ml_Projects\\EnviroScan\\EnviroScan\\data\\val\\images\\1469.jpg: 640x320 1 Paper, 1 Plastic bag & wrapper, 4.5ms\n",
      "image 108/300 c:\\Users\\shrit\\Desktop\\Ml_Projects\\EnviroScan\\EnviroScan\\data\\val\\images\\147.jpg: 640x320 1 Plastic bag & wrapper, 5.2ms\n",
      "image 109/300 c:\\Users\\shrit\\Desktop\\Ml_Projects\\EnviroScan\\EnviroScan\\data\\val\\images\\1470.jpg: 640x320 1 Bottle, 1 Plastic bag & wrapper, 5.0ms\n",
      "image 110/300 c:\\Users\\shrit\\Desktop\\Ml_Projects\\EnviroScan\\EnviroScan\\data\\val\\images\\1474.jpg: 640x320 1 Bottle, 5.0ms\n",
      "image 111/300 c:\\Users\\shrit\\Desktop\\Ml_Projects\\EnviroScan\\EnviroScan\\data\\val\\images\\1481.jpg: 640x320 1 Cigarette, 4.7ms\n",
      "image 112/300 c:\\Users\\shrit\\Desktop\\Ml_Projects\\EnviroScan\\EnviroScan\\data\\val\\images\\1489.jpg: 640x320 (no detections), 4.5ms\n",
      "image 113/300 c:\\Users\\shrit\\Desktop\\Ml_Projects\\EnviroScan\\EnviroScan\\data\\val\\images\\149.jpg: 640x320 1 Unlabeled litter, 4.5ms\n",
      "image 114/300 c:\\Users\\shrit\\Desktop\\Ml_Projects\\EnviroScan\\EnviroScan\\data\\val\\images\\1495.jpg: 640x320 1 Paper, 3.5ms\n",
      "image 115/300 c:\\Users\\shrit\\Desktop\\Ml_Projects\\EnviroScan\\EnviroScan\\data\\val\\images\\15.jpg: 640x480 2 Bottles, 1 Bottle cap, 1 Lid, 7.3ms\n",
      "image 116/300 c:\\Users\\shrit\\Desktop\\Ml_Projects\\EnviroScan\\EnviroScan\\data\\val\\images\\16.jpg: 640x480 1 Carton, 1 Paper, 5.0ms\n",
      "image 117/300 c:\\Users\\shrit\\Desktop\\Ml_Projects\\EnviroScan\\EnviroScan\\data\\val\\images\\17.jpg: 640x480 1 Plastic container, 2 Cigarettes, 5.5ms\n",
      "image 118/300 c:\\Users\\shrit\\Desktop\\Ml_Projects\\EnviroScan\\EnviroScan\\data\\val\\images\\171.jpg: 320x640 1 Bottle, 7.5ms\n",
      "image 119/300 c:\\Users\\shrit\\Desktop\\Ml_Projects\\EnviroScan\\EnviroScan\\data\\val\\images\\173.jpg: 320x640 1 Plastic bag & wrapper, 5.5ms\n",
      "image 120/300 c:\\Users\\shrit\\Desktop\\Ml_Projects\\EnviroScan\\EnviroScan\\data\\val\\images\\182.jpg: 320x640 1 Bottle, 4.5ms\n",
      "image 121/300 c:\\Users\\shrit\\Desktop\\Ml_Projects\\EnviroScan\\EnviroScan\\data\\val\\images\\190.jpg: 640x320 2 Cartons, 4.5ms\n",
      "image 122/300 c:\\Users\\shrit\\Desktop\\Ml_Projects\\EnviroScan\\EnviroScan\\data\\val\\images\\193.jpg: 640x320 1 Plastic bag & wrapper, 7.0ms\n",
      "image 123/300 c:\\Users\\shrit\\Desktop\\Ml_Projects\\EnviroScan\\EnviroScan\\data\\val\\images\\194.jpg: 320x640 (no detections), 5.5ms\n",
      "image 124/300 c:\\Users\\shrit\\Desktop\\Ml_Projects\\EnviroScan\\EnviroScan\\data\\val\\images\\197.jpg: 640x480 1 Plastic bag & wrapper, 5.7ms\n",
      "image 125/300 c:\\Users\\shrit\\Desktop\\Ml_Projects\\EnviroScan\\EnviroScan\\data\\val\\images\\198.jpg: 640x320 1 Bottle, 1 Can, 5.8ms\n",
      "image 126/300 c:\\Users\\shrit\\Desktop\\Ml_Projects\\EnviroScan\\EnviroScan\\data\\val\\images\\200.jpg: 640x320 1 Carton, 7.0ms\n",
      "image 127/300 c:\\Users\\shrit\\Desktop\\Ml_Projects\\EnviroScan\\EnviroScan\\data\\val\\images\\204.jpg: 640x320 4 Cartons, 5.5ms\n",
      "image 128/300 c:\\Users\\shrit\\Desktop\\Ml_Projects\\EnviroScan\\EnviroScan\\data\\val\\images\\211.jpg: 640x320 4 Cartons, 2 Styrofoam pieces, 7.0ms\n",
      "image 129/300 c:\\Users\\shrit\\Desktop\\Ml_Projects\\EnviroScan\\EnviroScan\\data\\val\\images\\22.jpg: 640x480 1 Can, 1 Pop tab, 5.5ms\n",
      "image 130/300 c:\\Users\\shrit\\Desktop\\Ml_Projects\\EnviroScan\\EnviroScan\\data\\val\\images\\233.jpg: 640x384 (no detections), 5.0ms\n",
      "image 131/300 c:\\Users\\shrit\\Desktop\\Ml_Projects\\EnviroScan\\EnviroScan\\data\\val\\images\\234.jpg: 640x384 (no detections), 4.0ms\n",
      "image 132/300 c:\\Users\\shrit\\Desktop\\Ml_Projects\\EnviroScan\\EnviroScan\\data\\val\\images\\239.jpg: 640x480 1 Cup, 1 Plastic bag & wrapper, 5.0ms\n",
      "image 133/300 c:\\Users\\shrit\\Desktop\\Ml_Projects\\EnviroScan\\EnviroScan\\data\\val\\images\\243.jpg: 640x480 1 Cup, 1 Plastic bag & wrapper, 4.0ms\n",
      "image 134/300 c:\\Users\\shrit\\Desktop\\Ml_Projects\\EnviroScan\\EnviroScan\\data\\val\\images\\244.jpg: 640x480 1 Carton, 4.0ms\n",
      "image 135/300 c:\\Users\\shrit\\Desktop\\Ml_Projects\\EnviroScan\\EnviroScan\\data\\val\\images\\248.jpg: 640x480 1 Carton, 5.0ms\n",
      "image 136/300 c:\\Users\\shrit\\Desktop\\Ml_Projects\\EnviroScan\\EnviroScan\\data\\val\\images\\257.jpg: 640x480 (no detections), 4.0ms\n",
      "image 137/300 c:\\Users\\shrit\\Desktop\\Ml_Projects\\EnviroScan\\EnviroScan\\data\\val\\images\\259.jpg: 640x480 (no detections), 4.5ms\n",
      "image 138/300 c:\\Users\\shrit\\Desktop\\Ml_Projects\\EnviroScan\\EnviroScan\\data\\val\\images\\269.jpg: 640x480 (no detections), 5.0ms\n",
      "image 139/300 c:\\Users\\shrit\\Desktop\\Ml_Projects\\EnviroScan\\EnviroScan\\data\\val\\images\\280.jpg: 480x640 1 Plastic bag & wrapper, 5.0ms\n",
      "image 140/300 c:\\Users\\shrit\\Desktop\\Ml_Projects\\EnviroScan\\EnviroScan\\data\\val\\images\\282.jpg: 640x480 1 Styrofoam piece, 5.5ms\n",
      "image 141/300 c:\\Users\\shrit\\Desktop\\Ml_Projects\\EnviroScan\\EnviroScan\\data\\val\\images\\285.jpg: 640x480 1 Plastic bag & wrapper, 5.0ms\n",
      "image 142/300 c:\\Users\\shrit\\Desktop\\Ml_Projects\\EnviroScan\\EnviroScan\\data\\val\\images\\287.jpg: 640x480 1 Plastic bag & wrapper, 4.5ms\n",
      "image 143/300 c:\\Users\\shrit\\Desktop\\Ml_Projects\\EnviroScan\\EnviroScan\\data\\val\\images\\290.jpg: 640x480 1 Can, 4.0ms\n",
      "image 144/300 c:\\Users\\shrit\\Desktop\\Ml_Projects\\EnviroScan\\EnviroScan\\data\\val\\images\\296.jpg: 640x384 1 Bottle, 5.0ms\n",
      "image 145/300 c:\\Users\\shrit\\Desktop\\Ml_Projects\\EnviroScan\\EnviroScan\\data\\val\\images\\297.jpg: 640x384 1 Can, 5.5ms\n",
      "image 146/300 c:\\Users\\shrit\\Desktop\\Ml_Projects\\EnviroScan\\EnviroScan\\data\\val\\images\\298.jpg: 640x384 1 Can, 1 Paper, 4.0ms\n",
      "image 147/300 c:\\Users\\shrit\\Desktop\\Ml_Projects\\EnviroScan\\EnviroScan\\data\\val\\images\\3.jpg: 480x640 1 Bottle, 1 Can, 6.0ms\n",
      "image 148/300 c:\\Users\\shrit\\Desktop\\Ml_Projects\\EnviroScan\\EnviroScan\\data\\val\\images\\30.jpg: 640x480 1 Carton, 5.5ms\n",
      "image 149/300 c:\\Users\\shrit\\Desktop\\Ml_Projects\\EnviroScan\\EnviroScan\\data\\val\\images\\301.jpg: 640x384 1 Cup, 1 Plastic bag & wrapper, 6.0ms\n",
      "image 150/300 c:\\Users\\shrit\\Desktop\\Ml_Projects\\EnviroScan\\EnviroScan\\data\\val\\images\\302.jpg: 640x384 1 Can, 1 Plastic bag & wrapper, 4.5ms\n",
      "image 151/300 c:\\Users\\shrit\\Desktop\\Ml_Projects\\EnviroScan\\EnviroScan\\data\\val\\images\\304.jpg: 640x384 1 Styrofoam piece, 5.0ms\n",
      "image 152/300 c:\\Users\\shrit\\Desktop\\Ml_Projects\\EnviroScan\\EnviroScan\\data\\val\\images\\306.jpg: 384x640 1 Plastic bag & wrapper, 6.0ms\n",
      "image 153/300 c:\\Users\\shrit\\Desktop\\Ml_Projects\\EnviroScan\\EnviroScan\\data\\val\\images\\310.jpg: 640x384 1 Lid, 1 Other plastic, 1 Paper, 1 Plastic container, 5.0ms\n",
      "image 154/300 c:\\Users\\shrit\\Desktop\\Ml_Projects\\EnviroScan\\EnviroScan\\data\\val\\images\\311.jpg: 640x384 1 Plastic bag & wrapper, 5.5ms\n",
      "image 155/300 c:\\Users\\shrit\\Desktop\\Ml_Projects\\EnviroScan\\EnviroScan\\data\\val\\images\\315.jpg: 640x384 1 Bottle cap, 5.0ms\n",
      "image 156/300 c:\\Users\\shrit\\Desktop\\Ml_Projects\\EnviroScan\\EnviroScan\\data\\val\\images\\317.jpg: 384x640 1 Plastic container, 6.5ms\n",
      "image 157/300 c:\\Users\\shrit\\Desktop\\Ml_Projects\\EnviroScan\\EnviroScan\\data\\val\\images\\324.jpg: 640x384 (no detections), 8.0ms\n",
      "image 158/300 c:\\Users\\shrit\\Desktop\\Ml_Projects\\EnviroScan\\EnviroScan\\data\\val\\images\\326.jpg: 640x384 1 Bottle, 1 Can, 2 Cups, 1 Cigarette, 7.0ms\n",
      "image 159/300 c:\\Users\\shrit\\Desktop\\Ml_Projects\\EnviroScan\\EnviroScan\\data\\val\\images\\328.jpg: 640x384 1 Bottle cap, 1 Lid, 6.0ms\n",
      "image 160/300 c:\\Users\\shrit\\Desktop\\Ml_Projects\\EnviroScan\\EnviroScan\\data\\val\\images\\335.jpg: 640x384 1 Bottle, 1 Paper, 4.5ms\n",
      "image 161/300 c:\\Users\\shrit\\Desktop\\Ml_Projects\\EnviroScan\\EnviroScan\\data\\val\\images\\336.jpg: 640x384 1 Plastic bag & wrapper, 4.0ms\n",
      "image 162/300 c:\\Users\\shrit\\Desktop\\Ml_Projects\\EnviroScan\\EnviroScan\\data\\val\\images\\337.jpg: 640x480 1 Can, 6.5ms\n",
      "image 163/300 c:\\Users\\shrit\\Desktop\\Ml_Projects\\EnviroScan\\EnviroScan\\data\\val\\images\\338.jpg: 640x480 1 Can, 2 Cups, 1 Other plastic, 1 Paper, 1 Plastic container, 6.0ms\n",
      "image 164/300 c:\\Users\\shrit\\Desktop\\Ml_Projects\\EnviroScan\\EnviroScan\\data\\val\\images\\34.jpg: 640x480 1 Bottle, 1 Lid, 5.5ms\n",
      "image 165/300 c:\\Users\\shrit\\Desktop\\Ml_Projects\\EnviroScan\\EnviroScan\\data\\val\\images\\343.jpg: 640x384 1 Bottle cap, 6.0ms\n",
      "image 166/300 c:\\Users\\shrit\\Desktop\\Ml_Projects\\EnviroScan\\EnviroScan\\data\\val\\images\\346.jpg: 640x480 (no detections), 5.0ms\n",
      "image 167/300 c:\\Users\\shrit\\Desktop\\Ml_Projects\\EnviroScan\\EnviroScan\\data\\val\\images\\352.jpg: 480x640 (no detections), 5.0ms\n",
      "image 168/300 c:\\Users\\shrit\\Desktop\\Ml_Projects\\EnviroScan\\EnviroScan\\data\\val\\images\\356.jpg: 640x480 1 Carton, 5.0ms\n",
      "image 169/300 c:\\Users\\shrit\\Desktop\\Ml_Projects\\EnviroScan\\EnviroScan\\data\\val\\images\\36.jpg: 640x480 1 Bottle, 1 Bottle cap, 5.5ms\n",
      "image 170/300 c:\\Users\\shrit\\Desktop\\Ml_Projects\\EnviroScan\\EnviroScan\\data\\val\\images\\362.jpg: 640x480 1 Bottle, 5 Plastic bag & wrappers, 9.0ms\n",
      "image 171/300 c:\\Users\\shrit\\Desktop\\Ml_Projects\\EnviroScan\\EnviroScan\\data\\val\\images\\363.jpg: 480x640 1 Paper, 6.5ms\n",
      "image 172/300 c:\\Users\\shrit\\Desktop\\Ml_Projects\\EnviroScan\\EnviroScan\\data\\val\\images\\37.jpg: 640x480 1 Bottle, 7.0ms\n",
      "image 173/300 c:\\Users\\shrit\\Desktop\\Ml_Projects\\EnviroScan\\EnviroScan\\data\\val\\images\\375.jpg: 640x480 1 Bottle, 2 Plastic bag & wrappers, 1 Straw, 5.0ms\n",
      "image 174/300 c:\\Users\\shrit\\Desktop\\Ml_Projects\\EnviroScan\\EnviroScan\\data\\val\\images\\383.jpg: 640x480 1 Carton, 2 Plastic bag & wrappers, 5.5ms\n",
      "image 175/300 c:\\Users\\shrit\\Desktop\\Ml_Projects\\EnviroScan\\EnviroScan\\data\\val\\images\\384.jpg: 480x640 2 Plastic bag & wrappers, 6.0ms\n",
      "image 176/300 c:\\Users\\shrit\\Desktop\\Ml_Projects\\EnviroScan\\EnviroScan\\data\\val\\images\\385.jpg: 480x640 5 Plastic bag & wrappers, 2 Plastic containers, 5.0ms\n",
      "image 177/300 c:\\Users\\shrit\\Desktop\\Ml_Projects\\EnviroScan\\EnviroScan\\data\\val\\images\\389.jpg: 480x640 1 Paper, 1 Plastic bag & wrapper, 2 Styrofoam pieces, 4.5ms\n",
      "image 178/300 c:\\Users\\shrit\\Desktop\\Ml_Projects\\EnviroScan\\EnviroScan\\data\\val\\images\\39.jpg: 640x480 (no detections), 9.6ms\n",
      "image 179/300 c:\\Users\\shrit\\Desktop\\Ml_Projects\\EnviroScan\\EnviroScan\\data\\val\\images\\390.jpg: 640x480 (no detections), 8.6ms\n",
      "image 180/300 c:\\Users\\shrit\\Desktop\\Ml_Projects\\EnviroScan\\EnviroScan\\data\\val\\images\\394.jpg: 480x640 1 Bottle, 1 Bottle cap, 5.1ms\n",
      "image 181/300 c:\\Users\\shrit\\Desktop\\Ml_Projects\\EnviroScan\\EnviroScan\\data\\val\\images\\405.jpg: 640x480 (no detections), 6.4ms\n",
      "image 182/300 c:\\Users\\shrit\\Desktop\\Ml_Projects\\EnviroScan\\EnviroScan\\data\\val\\images\\41.jpg: 640x480 1 Can, 1 Plastic bag & wrapper, 1 Cigarette, 4.5ms\n",
      "image 183/300 c:\\Users\\shrit\\Desktop\\Ml_Projects\\EnviroScan\\EnviroScan\\data\\val\\images\\410.jpg: 480x640 1 Bottle, 3 Plastic bag & wrappers, 6.0ms\n",
      "image 184/300 c:\\Users\\shrit\\Desktop\\Ml_Projects\\EnviroScan\\EnviroScan\\data\\val\\images\\412.jpg: 480x640 1 Carton, 4.5ms\n",
      "image 185/300 c:\\Users\\shrit\\Desktop\\Ml_Projects\\EnviroScan\\EnviroScan\\data\\val\\images\\427.jpg: 640x480 1 Can, 1 Cup, 6.0ms\n",
      "image 186/300 c:\\Users\\shrit\\Desktop\\Ml_Projects\\EnviroScan\\EnviroScan\\data\\val\\images\\428.jpg: 640x480 1 Carton, 4.0ms\n",
      "image 187/300 c:\\Users\\shrit\\Desktop\\Ml_Projects\\EnviroScan\\EnviroScan\\data\\val\\images\\429.jpg: 640x480 1 Bottle, 1 Bottle cap, 4.5ms\n",
      "image 188/300 c:\\Users\\shrit\\Desktop\\Ml_Projects\\EnviroScan\\EnviroScan\\data\\val\\images\\43.jpg: 640x480 2 Bottles, 3 Bottle caps, 1 Glass jar, 4.0ms\n",
      "image 189/300 c:\\Users\\shrit\\Desktop\\Ml_Projects\\EnviroScan\\EnviroScan\\data\\val\\images\\434.jpg: 640x480 (no detections), 5.5ms\n",
      "image 190/300 c:\\Users\\shrit\\Desktop\\Ml_Projects\\EnviroScan\\EnviroScan\\data\\val\\images\\450.jpg: 640x480 1 Styrofoam piece, 5.0ms\n",
      "image 191/300 c:\\Users\\shrit\\Desktop\\Ml_Projects\\EnviroScan\\EnviroScan\\data\\val\\images\\454.jpg: 480x640 1 Carton, 1 Cup, 1 Styrofoam piece, 6.5ms\n",
      "image 192/300 c:\\Users\\shrit\\Desktop\\Ml_Projects\\EnviroScan\\EnviroScan\\data\\val\\images\\459.jpg: 480x640 (no detections), 6.0ms\n",
      "image 193/300 c:\\Users\\shrit\\Desktop\\Ml_Projects\\EnviroScan\\EnviroScan\\data\\val\\images\\460.jpg: 640x480 1 Can, 1 Cup, 1 Lid, 1 Plastic container, 6.0ms\n",
      "image 194/300 c:\\Users\\shrit\\Desktop\\Ml_Projects\\EnviroScan\\EnviroScan\\data\\val\\images\\463.jpg: 640x480 1 Bottle, 5.5ms\n",
      "image 195/300 c:\\Users\\shrit\\Desktop\\Ml_Projects\\EnviroScan\\EnviroScan\\data\\val\\images\\469.jpg: 640x480 1 Other plastic, 5.0ms\n",
      "image 196/300 c:\\Users\\shrit\\Desktop\\Ml_Projects\\EnviroScan\\EnviroScan\\data\\val\\images\\478.jpg: 640x480 1 Bottle cap, 6.5ms\n",
      "image 197/300 c:\\Users\\shrit\\Desktop\\Ml_Projects\\EnviroScan\\EnviroScan\\data\\val\\images\\479.jpg: 640x480 1 Carton, 1 Plastic bag & wrapper, 5.0ms\n",
      "image 198/300 c:\\Users\\shrit\\Desktop\\Ml_Projects\\EnviroScan\\EnviroScan\\data\\val\\images\\498.jpg: 480x640 2 Cartons, 5.5ms\n",
      "image 199/300 c:\\Users\\shrit\\Desktop\\Ml_Projects\\EnviroScan\\EnviroScan\\data\\val\\images\\505.jpg: 480x640 1 Plastic bag & wrapper, 5.0ms\n",
      "image 200/300 c:\\Users\\shrit\\Desktop\\Ml_Projects\\EnviroScan\\EnviroScan\\data\\val\\images\\509.jpg: 640x480 1 Bottle cap, 5.0ms\n",
      "image 201/300 c:\\Users\\shrit\\Desktop\\Ml_Projects\\EnviroScan\\EnviroScan\\data\\val\\images\\515.jpg: 640x480 1 Can, 1 Plastic bag & wrapper, 4.5ms\n",
      "image 202/300 c:\\Users\\shrit\\Desktop\\Ml_Projects\\EnviroScan\\EnviroScan\\data\\val\\images\\516.jpg: 480x640 2 Plastic bag & wrappers, 4.7ms\n",
      "image 203/300 c:\\Users\\shrit\\Desktop\\Ml_Projects\\EnviroScan\\EnviroScan\\data\\val\\images\\52.jpg: 640x480 1 Can, 5.5ms\n",
      "image 204/300 c:\\Users\\shrit\\Desktop\\Ml_Projects\\EnviroScan\\EnviroScan\\data\\val\\images\\521.jpg: 480x640 1 Paper, 6.0ms\n",
      "image 205/300 c:\\Users\\shrit\\Desktop\\Ml_Projects\\EnviroScan\\EnviroScan\\data\\val\\images\\524.jpg: 640x480 1 Bottle, 6.0ms\n",
      "image 206/300 c:\\Users\\shrit\\Desktop\\Ml_Projects\\EnviroScan\\EnviroScan\\data\\val\\images\\530.jpg: 640x480 1 Bottle cap, 5.5ms\n",
      "image 207/300 c:\\Users\\shrit\\Desktop\\Ml_Projects\\EnviroScan\\EnviroScan\\data\\val\\images\\540.jpg: 640x480 (no detections), 6.0ms\n",
      "image 208/300 c:\\Users\\shrit\\Desktop\\Ml_Projects\\EnviroScan\\EnviroScan\\data\\val\\images\\544.jpg: 480x640 (no detections), 4.5ms\n",
      "image 209/300 c:\\Users\\shrit\\Desktop\\Ml_Projects\\EnviroScan\\EnviroScan\\data\\val\\images\\545.jpg: 640x480 1 Carton, 1 Plastic bag & wrapper, 9.0ms\n",
      "image 210/300 c:\\Users\\shrit\\Desktop\\Ml_Projects\\EnviroScan\\EnviroScan\\data\\val\\images\\556.jpg: 640x480 (no detections), 5.5ms\n",
      "image 211/300 c:\\Users\\shrit\\Desktop\\Ml_Projects\\EnviroScan\\EnviroScan\\data\\val\\images\\56.jpg: 640x480 1 Can, 5.5ms\n",
      "image 212/300 c:\\Users\\shrit\\Desktop\\Ml_Projects\\EnviroScan\\EnviroScan\\data\\val\\images\\569.jpg: 640x480 (no detections), 5.0ms\n",
      "image 213/300 c:\\Users\\shrit\\Desktop\\Ml_Projects\\EnviroScan\\EnviroScan\\data\\val\\images\\57.jpg: 640x480 (no detections), 5.0ms\n",
      "image 214/300 c:\\Users\\shrit\\Desktop\\Ml_Projects\\EnviroScan\\EnviroScan\\data\\val\\images\\570.jpg: 640x480 1 Can, 1 Cup, 1 Pop tab, 6.0ms\n",
      "image 215/300 c:\\Users\\shrit\\Desktop\\Ml_Projects\\EnviroScan\\EnviroScan\\data\\val\\images\\579.jpg: 640x480 1 Other plastic, 4.5ms\n",
      "image 216/300 c:\\Users\\shrit\\Desktop\\Ml_Projects\\EnviroScan\\EnviroScan\\data\\val\\images\\599.jpg: 640x480 1 Bottle, 1 Cup, 1 Styrofoam piece, 5.1ms\n",
      "image 217/300 c:\\Users\\shrit\\Desktop\\Ml_Projects\\EnviroScan\\EnviroScan\\data\\val\\images\\609.jpg: 640x480 (no detections), 5.0ms\n",
      "image 218/300 c:\\Users\\shrit\\Desktop\\Ml_Projects\\EnviroScan\\EnviroScan\\data\\val\\images\\619.jpg: 640x480 1 Plastic bag & wrapper, 5.0ms\n",
      "image 219/300 c:\\Users\\shrit\\Desktop\\Ml_Projects\\EnviroScan\\EnviroScan\\data\\val\\images\\625.jpg: 640x480 (no detections), 5.5ms\n",
      "image 220/300 c:\\Users\\shrit\\Desktop\\Ml_Projects\\EnviroScan\\EnviroScan\\data\\val\\images\\635.jpg: 640x480 1 Lid, 5.0ms\n",
      "image 221/300 c:\\Users\\shrit\\Desktop\\Ml_Projects\\EnviroScan\\EnviroScan\\data\\val\\images\\650.jpg: 640x480 1 Cigarette, 5.0ms\n",
      "image 222/300 c:\\Users\\shrit\\Desktop\\Ml_Projects\\EnviroScan\\EnviroScan\\data\\val\\images\\652.jpg: 640x480 1 Cup, 1 Paper, 1 Plastic utensils, 4.6ms\n",
      "image 223/300 c:\\Users\\shrit\\Desktop\\Ml_Projects\\EnviroScan\\EnviroScan\\data\\val\\images\\653.jpg: 640x480 1 Carton, 4.6ms\n",
      "image 224/300 c:\\Users\\shrit\\Desktop\\Ml_Projects\\EnviroScan\\EnviroScan\\data\\val\\images\\657.jpg: 640x480 1 Bottle, 1 Carton, 1 Paper, 1 Plastic bag & wrapper, 1 Cigarette, 6.0ms\n",
      "image 225/300 c:\\Users\\shrit\\Desktop\\Ml_Projects\\EnviroScan\\EnviroScan\\data\\val\\images\\66.jpg: 640x480 1 Carton, 1 Cigarette, 4.0ms\n",
      "image 226/300 c:\\Users\\shrit\\Desktop\\Ml_Projects\\EnviroScan\\EnviroScan\\data\\val\\images\\660.jpg: 640x480 1 Cup, 4.5ms\n",
      "image 227/300 c:\\Users\\shrit\\Desktop\\Ml_Projects\\EnviroScan\\EnviroScan\\data\\val\\images\\661.jpg: 640x480 (no detections), 5.5ms\n",
      "image 228/300 c:\\Users\\shrit\\Desktop\\Ml_Projects\\EnviroScan\\EnviroScan\\data\\val\\images\\665.jpg: 480x640 1 Plastic container, 1 Styrofoam piece, 6.5ms\n",
      "image 229/300 c:\\Users\\shrit\\Desktop\\Ml_Projects\\EnviroScan\\EnviroScan\\data\\val\\images\\666.jpg: 480x640 1 Can, 5.0ms\n",
      "image 230/300 c:\\Users\\shrit\\Desktop\\Ml_Projects\\EnviroScan\\EnviroScan\\data\\val\\images\\668.jpg: 640x480 1 Bottle cap, 5.0ms\n",
      "image 231/300 c:\\Users\\shrit\\Desktop\\Ml_Projects\\EnviroScan\\EnviroScan\\data\\val\\images\\669.jpg: 640x480 1 Cup, 5.0ms\n",
      "image 232/300 c:\\Users\\shrit\\Desktop\\Ml_Projects\\EnviroScan\\EnviroScan\\data\\val\\images\\682.jpg: 640x480 1 Plastic bag & wrapper, 5.0ms\n",
      "image 233/300 c:\\Users\\shrit\\Desktop\\Ml_Projects\\EnviroScan\\EnviroScan\\data\\val\\images\\686.jpg: 640x480 1 Cup, 6.0ms\n",
      "image 234/300 c:\\Users\\shrit\\Desktop\\Ml_Projects\\EnviroScan\\EnviroScan\\data\\val\\images\\69.jpg: 480x640 1 Bottle cap, 1 Can, 7.0ms\n",
      "image 235/300 c:\\Users\\shrit\\Desktop\\Ml_Projects\\EnviroScan\\EnviroScan\\data\\val\\images\\693.jpg: 640x480 3 Cans, 2 Cups, 1 Lid, 7.0ms\n",
      "image 236/300 c:\\Users\\shrit\\Desktop\\Ml_Projects\\EnviroScan\\EnviroScan\\data\\val\\images\\695.jpg: 640x480 1 Other plastic, 4.5ms\n",
      "image 237/300 c:\\Users\\shrit\\Desktop\\Ml_Projects\\EnviroScan\\EnviroScan\\data\\val\\images\\696.jpg: 640x480 1 Bottle cap, 1 Plastic bag & wrapper, 5.0ms\n",
      "image 238/300 c:\\Users\\shrit\\Desktop\\Ml_Projects\\EnviroScan\\EnviroScan\\data\\val\\images\\698.jpg: 640x480 1 Carton, 1 Other plastic, 1 Plastic bag & wrapper, 5.0ms\n",
      "image 239/300 c:\\Users\\shrit\\Desktop\\Ml_Projects\\EnviroScan\\EnviroScan\\data\\val\\images\\7.jpg: 480x640 1 Bottle, 1 Bottle cap, 4.5ms\n",
      "image 240/300 c:\\Users\\shrit\\Desktop\\Ml_Projects\\EnviroScan\\EnviroScan\\data\\val\\images\\704.jpg: 640x480 (no detections), 6.0ms\n",
      "image 241/300 c:\\Users\\shrit\\Desktop\\Ml_Projects\\EnviroScan\\EnviroScan\\data\\val\\images\\722.jpg: 640x480 1 Can, 1 Carton, 8.5ms\n",
      "image 242/300 c:\\Users\\shrit\\Desktop\\Ml_Projects\\EnviroScan\\EnviroScan\\data\\val\\images\\727.jpg: 640x480 1 Carton, 1 Cigarette, 4.0ms\n",
      "image 243/300 c:\\Users\\shrit\\Desktop\\Ml_Projects\\EnviroScan\\EnviroScan\\data\\val\\images\\731.jpg: 640x480 1 Carton, 1 Plastic bag & wrapper, 1 Straw, 6.0ms\n",
      "image 244/300 c:\\Users\\shrit\\Desktop\\Ml_Projects\\EnviroScan\\EnviroScan\\data\\val\\images\\74.jpg: 640x480 1 Bottle, 1 Plastic bag & wrapper, 6.0ms\n",
      "image 245/300 c:\\Users\\shrit\\Desktop\\Ml_Projects\\EnviroScan\\EnviroScan\\data\\val\\images\\743.jpg: 640x480 1 Straw, 4.0ms\n",
      "image 246/300 c:\\Users\\shrit\\Desktop\\Ml_Projects\\EnviroScan\\EnviroScan\\data\\val\\images\\750.jpg: 640x480 1 Bottle cap, 1 Plastic bag & wrapper, 6.0ms\n",
      "image 247/300 c:\\Users\\shrit\\Desktop\\Ml_Projects\\EnviroScan\\EnviroScan\\data\\val\\images\\751.jpg: 480x640 1 Cup, 6.5ms\n",
      "image 248/300 c:\\Users\\shrit\\Desktop\\Ml_Projects\\EnviroScan\\EnviroScan\\data\\val\\images\\754.jpg: 640x480 1 Lid, 1 Plastic bag & wrapper, 5.5ms\n",
      "image 249/300 c:\\Users\\shrit\\Desktop\\Ml_Projects\\EnviroScan\\EnviroScan\\data\\val\\images\\763.jpg: 640x448 1 Cup, 1 Other plastic, 1 Styrofoam piece, 4.5ms\n",
      "image 250/300 c:\\Users\\shrit\\Desktop\\Ml_Projects\\EnviroScan\\EnviroScan\\data\\val\\images\\767.jpg: 480x640 1 Plastic bag & wrapper, 6.5ms\n",
      "image 251/300 c:\\Users\\shrit\\Desktop\\Ml_Projects\\EnviroScan\\EnviroScan\\data\\val\\images\\769.jpg: 480x640 1 Plastic bag & wrapper, 4.5ms\n",
      "image 252/300 c:\\Users\\shrit\\Desktop\\Ml_Projects\\EnviroScan\\EnviroScan\\data\\val\\images\\770.jpg: 640x480 (no detections), 9.0ms\n",
      "image 253/300 c:\\Users\\shrit\\Desktop\\Ml_Projects\\EnviroScan\\EnviroScan\\data\\val\\images\\777.jpg: 480x640 (no detections), 5.5ms\n",
      "image 254/300 c:\\Users\\shrit\\Desktop\\Ml_Projects\\EnviroScan\\EnviroScan\\data\\val\\images\\78.jpg: 640x480 1 Cup, 6.0ms\n",
      "image 255/300 c:\\Users\\shrit\\Desktop\\Ml_Projects\\EnviroScan\\EnviroScan\\data\\val\\images\\790.jpg: 640x480 1 Bottle cap, 2 Plastic bag & wrappers, 1 Unlabeled litter, 8.5ms\n",
      "image 256/300 c:\\Users\\shrit\\Desktop\\Ml_Projects\\EnviroScan\\EnviroScan\\data\\val\\images\\797.jpg: 640x480 2 Cans, 7.0ms\n",
      "image 257/300 c:\\Users\\shrit\\Desktop\\Ml_Projects\\EnviroScan\\EnviroScan\\data\\val\\images\\798.jpg: 640x480 1 Plastic bag & wrapper, 4.5ms\n",
      "image 258/300 c:\\Users\\shrit\\Desktop\\Ml_Projects\\EnviroScan\\EnviroScan\\data\\val\\images\\806.jpg: 640x480 1 Lid, 7.5ms\n",
      "image 259/300 c:\\Users\\shrit\\Desktop\\Ml_Projects\\EnviroScan\\EnviroScan\\data\\val\\images\\812.jpg: 480x640 (no detections), 9.0ms\n",
      "image 260/300 c:\\Users\\shrit\\Desktop\\Ml_Projects\\EnviroScan\\EnviroScan\\data\\val\\images\\820.jpg: 640x480 1 Bottle, 1 Paper, 6.5ms\n",
      "image 261/300 c:\\Users\\shrit\\Desktop\\Ml_Projects\\EnviroScan\\EnviroScan\\data\\val\\images\\822.jpg: 640x480 1 Plastic container, 5.0ms\n",
      "image 262/300 c:\\Users\\shrit\\Desktop\\Ml_Projects\\EnviroScan\\EnviroScan\\data\\val\\images\\829.jpg: 640x480 1 Plastic bag & wrapper, 5.0ms\n",
      "image 263/300 c:\\Users\\shrit\\Desktop\\Ml_Projects\\EnviroScan\\EnviroScan\\data\\val\\images\\830.jpg: 640x480 1 Bottle, 1 Bottle cap, 6.0ms\n",
      "image 264/300 c:\\Users\\shrit\\Desktop\\Ml_Projects\\EnviroScan\\EnviroScan\\data\\val\\images\\832.jpg: 640x480 1 Aluminium foil, 5.5ms\n",
      "image 265/300 c:\\Users\\shrit\\Desktop\\Ml_Projects\\EnviroScan\\EnviroScan\\data\\val\\images\\834.jpg: 640x480 1 Plastic bag & wrapper, 5.5ms\n",
      "image 266/300 c:\\Users\\shrit\\Desktop\\Ml_Projects\\EnviroScan\\EnviroScan\\data\\val\\images\\840.jpg: 640x480 1 Bottle, 1 Bottle cap, 7.5ms\n",
      "image 267/300 c:\\Users\\shrit\\Desktop\\Ml_Projects\\EnviroScan\\EnviroScan\\data\\val\\images\\843.jpg: 640x480 (no detections), 5.5ms\n",
      "image 268/300 c:\\Users\\shrit\\Desktop\\Ml_Projects\\EnviroScan\\EnviroScan\\data\\val\\images\\847.jpg: 640x480 (no detections), 5.5ms\n",
      "image 269/300 c:\\Users\\shrit\\Desktop\\Ml_Projects\\EnviroScan\\EnviroScan\\data\\val\\images\\851.jpg: 640x480 (no detections), 7.0ms\n",
      "image 270/300 c:\\Users\\shrit\\Desktop\\Ml_Projects\\EnviroScan\\EnviroScan\\data\\val\\images\\865.jpg: 480x640 1 Carton, 7.0ms\n",
      "image 271/300 c:\\Users\\shrit\\Desktop\\Ml_Projects\\EnviroScan\\EnviroScan\\data\\val\\images\\866.jpg: 640x640 3 Bottles, 1 Plastic bag & wrapper, 1 Unlabeled litter, 5.5ms\n",
      "image 272/300 c:\\Users\\shrit\\Desktop\\Ml_Projects\\EnviroScan\\EnviroScan\\data\\val\\images\\872.jpg: 640x480 1 Cup, 1 Plastic container, 6.5ms\n",
      "image 273/300 c:\\Users\\shrit\\Desktop\\Ml_Projects\\EnviroScan\\EnviroScan\\data\\val\\images\\877.jpg: 480x640 3 Other plastics, 7.5ms\n",
      "image 274/300 c:\\Users\\shrit\\Desktop\\Ml_Projects\\EnviroScan\\EnviroScan\\data\\val\\images\\881.jpg: 480x640 1 Bottle, 5.0ms\n",
      "image 275/300 c:\\Users\\shrit\\Desktop\\Ml_Projects\\EnviroScan\\EnviroScan\\data\\val\\images\\889.jpg: 640x480 1 Other plastic, 8.0ms\n",
      "image 276/300 c:\\Users\\shrit\\Desktop\\Ml_Projects\\EnviroScan\\EnviroScan\\data\\val\\images\\898.jpg: 640x480 1 Other plastic, 4.0ms\n",
      "image 277/300 c:\\Users\\shrit\\Desktop\\Ml_Projects\\EnviroScan\\EnviroScan\\data\\val\\images\\902.jpg: 640x480 1 Aluminium foil, 4.0ms\n",
      "image 278/300 c:\\Users\\shrit\\Desktop\\Ml_Projects\\EnviroScan\\EnviroScan\\data\\val\\images\\906.jpg: 480x640 1 Other plastic, 6.0ms\n",
      "image 279/300 c:\\Users\\shrit\\Desktop\\Ml_Projects\\EnviroScan\\EnviroScan\\data\\val\\images\\907.jpg: 640x480 1 Other plastic, 9.0ms\n",
      "image 280/300 c:\\Users\\shrit\\Desktop\\Ml_Projects\\EnviroScan\\EnviroScan\\data\\val\\images\\92.jpg: 640x480 (no detections), 6.0ms\n",
      "image 281/300 c:\\Users\\shrit\\Desktop\\Ml_Projects\\EnviroScan\\EnviroScan\\data\\val\\images\\920.jpg: 640x480 (no detections), 5.5ms\n",
      "image 282/300 c:\\Users\\shrit\\Desktop\\Ml_Projects\\EnviroScan\\EnviroScan\\data\\val\\images\\929.jpg: 640x480 (no detections), 6.0ms\n",
      "image 283/300 c:\\Users\\shrit\\Desktop\\Ml_Projects\\EnviroScan\\EnviroScan\\data\\val\\images\\931.jpg: 640x480 1 Other plastic, 5.5ms\n",
      "image 284/300 c:\\Users\\shrit\\Desktop\\Ml_Projects\\EnviroScan\\EnviroScan\\data\\val\\images\\932.jpg: 640x480 (no detections), 5.5ms\n",
      "image 285/300 c:\\Users\\shrit\\Desktop\\Ml_Projects\\EnviroScan\\EnviroScan\\data\\val\\images\\933.jpg: 640x480 1 Plastic bag & wrapper, 5.0ms\n",
      "image 286/300 c:\\Users\\shrit\\Desktop\\Ml_Projects\\EnviroScan\\EnviroScan\\data\\val\\images\\935.jpg: 480x640 1 Can, 5.5ms\n",
      "image 287/300 c:\\Users\\shrit\\Desktop\\Ml_Projects\\EnviroScan\\EnviroScan\\data\\val\\images\\939.jpg: 480x640 1 Plastic bag & wrapper, 6.0ms\n",
      "image 288/300 c:\\Users\\shrit\\Desktop\\Ml_Projects\\EnviroScan\\EnviroScan\\data\\val\\images\\943.jpg: 480x640 (no detections), 5.0ms\n",
      "image 289/300 c:\\Users\\shrit\\Desktop\\Ml_Projects\\EnviroScan\\EnviroScan\\data\\val\\images\\948.jpg: 480x640 1 Cup, 5.5ms\n",
      "image 290/300 c:\\Users\\shrit\\Desktop\\Ml_Projects\\EnviroScan\\EnviroScan\\data\\val\\images\\951.jpg: 480x640 (no detections), 5.5ms\n",
      "image 291/300 c:\\Users\\shrit\\Desktop\\Ml_Projects\\EnviroScan\\EnviroScan\\data\\val\\images\\953.jpg: 480x640 (no detections), 4.5ms\n",
      "image 292/300 c:\\Users\\shrit\\Desktop\\Ml_Projects\\EnviroScan\\EnviroScan\\data\\val\\images\\955.jpg: 640x480 1 Plastic bag & wrapper, 6.5ms\n",
      "image 293/300 c:\\Users\\shrit\\Desktop\\Ml_Projects\\EnviroScan\\EnviroScan\\data\\val\\images\\968.jpg: 640x480 1 Straw, 7.5ms\n",
      "image 294/300 c:\\Users\\shrit\\Desktop\\Ml_Projects\\EnviroScan\\EnviroScan\\data\\val\\images\\969.jpg: 640x480 1 Bottle cap, 6.0ms\n",
      "image 295/300 c:\\Users\\shrit\\Desktop\\Ml_Projects\\EnviroScan\\EnviroScan\\data\\val\\images\\972.jpg: 640x480 1 Other plastic, 5.0ms\n",
      "image 296/300 c:\\Users\\shrit\\Desktop\\Ml_Projects\\EnviroScan\\EnviroScan\\data\\val\\images\\975.jpg: 480x640 1 Bottle cap, 1 Plastic bag & wrapper, 7.0ms\n",
      "image 297/300 c:\\Users\\shrit\\Desktop\\Ml_Projects\\EnviroScan\\EnviroScan\\data\\val\\images\\983.jpg: 640x480 (no detections), 5.5ms\n",
      "image 298/300 c:\\Users\\shrit\\Desktop\\Ml_Projects\\EnviroScan\\EnviroScan\\data\\val\\images\\988.jpg: 480x640 (no detections), 6.5ms\n",
      "image 299/300 c:\\Users\\shrit\\Desktop\\Ml_Projects\\EnviroScan\\EnviroScan\\data\\val\\images\\997.jpg: 640x480 1 Carton, 5.0ms\n",
      "image 300/300 c:\\Users\\shrit\\Desktop\\Ml_Projects\\EnviroScan\\EnviroScan\\data\\val\\images\\999.jpg: 640x480 1 Bottle, 1 Plastic bag & wrapper, 4.0ms\n",
      "Speed: 1.7ms preprocess, 5.8ms inference, 1.3ms postprocess per image at shape (1, 3, 640, 480)\n"
     ]
    },
    {
     "name": "stderr",
     "output_type": "stream",
     "text": [
      "100%|██████████| 300/300 [00:00<00:00, 5499.33it/s]"
     ]
    },
    {
     "name": "stdout",
     "output_type": "stream",
     "text": [
      "True Positives (TP): 193\n",
      "False Positives (FP): 279\n",
      "False Negatives (FN): 453\n"
     ]
    },
    {
     "name": "stderr",
     "output_type": "stream",
     "text": [
      "\n"
     ]
    }
   ],
   "source": [
    "from ultralytics import YOLO\n",
    "import numpy as np\n",
    "from tqdm import tqdm\n",
    "\n",
    "# Load the model\n",
    "model = YOLO(r'C:\\Users\\shrit\\Desktop\\Ml_Projects\\EnviroScan\\EnviroScan\\runs\\detect\\yolov8s-seg_EnviroScan_Results3\\weights\\best.pt')  # Replace with your model path\n",
    "\n",
    "# Run predictions on validation set with confidence threshold\n",
    "results = model.predict(source='./data/val/images', conf=0.4, imgsz=640)\n",
    "\n",
    "# Paths\n",
    "annotations_path = r'C:\\Users\\shrit\\Desktop\\Ml_Projects\\EnviroScan\\EnviroScan\\data\\val\\labels'  # Path to ground truth labels\n",
    "\n",
    "# Initialize counters\n",
    "TP, FP, FN = 0, 0, 0\n",
    "\n",
    "# Process predictions\n",
    "for i, result in tqdm(enumerate(results), total=len(results)):\n",
    "    # Load ground truth classes for this image\n",
    "    image_id = os.path.splitext(os.path.basename(result.path))[0]  # Extract image ID\n",
    "    label_file = f\"{annotations_path}/{image_id}.txt\"\n",
    "\n",
    "    if not os.path.exists(label_file):\n",
    "        print(f\"Missing ground truth for {image_id}\")\n",
    "        continue\n",
    "\n",
    "    # Parse ground truth classes\n",
    "    with open(label_file, 'r') as f:\n",
    "        ground_truth_classes = [int(line.split()[0]) for line in f.readlines()]  # Class IDs\n",
    "\n",
    "    # Predicted classes\n",
    "    predicted_classes = result.boxes.cls.cpu().numpy().astype(int)\n",
    "\n",
    "    # Calculate True Positives and False Positives\n",
    "    matched_gt = set()  # Track matched ground truth classes\n",
    "    for pred_class in predicted_classes:\n",
    "        if pred_class in ground_truth_classes and pred_class not in matched_gt:\n",
    "            TP += 1  # Correct prediction\n",
    "            matched_gt.add(pred_class)  # Mark ground truth as matched\n",
    "        else:\n",
    "            FP += 1  # Incorrect prediction\n",
    "\n",
    "    # Calculate False Negatives\n",
    "    FN += len(set(ground_truth_classes) - matched_gt)\n",
    "\n",
    "# Print results\n",
    "print(f\"True Positives (TP): {TP}\")\n",
    "print(f\"False Positives (FP): {FP}\")\n",
    "print(f\"False Negatives (FN): {FN}\")"
   ]
  },
  {
   "cell_type": "code",
   "execution_count": null,
   "metadata": {},
   "outputs": [],
   "source": []
  }
 ],
 "metadata": {
  "kernelspec": {
   "display_name": "Python 3",
   "language": "python",
   "name": "python3"
  },
  "language_info": {
   "codemirror_mode": {
    "name": "ipython",
    "version": 3
   },
   "file_extension": ".py",
   "mimetype": "text/x-python",
   "name": "python",
   "nbconvert_exporter": "python",
   "pygments_lexer": "ipython3",
   "version": "3.12.3"
  }
 },
 "nbformat": 4,
 "nbformat_minor": 2
}
